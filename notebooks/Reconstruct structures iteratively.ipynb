{
 "cells": [
  {
   "cell_type": "markdown",
   "metadata": {},
   "source": [
    "## Reconstruction of structures from reconstructed moments\n",
    "\n",
    "This notebook takes a bunch of structure from the QM9 dataset, creates the corresponding invariants and tries to reconstruct the corresponding molecule by first finding peaks in reconstruction from moments"
   ]
  },
  {
   "cell_type": "code",
   "execution_count": 1,
   "metadata": {},
   "outputs": [],
   "source": [
    "import random\n",
    "import json\n",
    "\n",
    "import numpy as np\n",
    "import pandas\n",
    "\n",
    "import milad\n",
    "from milad.play import asetools\n",
    "from milad import invariants\n",
    "from milad import reconstruct\n",
    "from milad import zernike\n",
    "\n",
    "import qm9_utils"
   ]
  },
  {
   "cell_type": "code",
   "execution_count": 2,
   "metadata": {},
   "outputs": [],
   "source": [
    "random.seed(1234)\n",
    "np.random.seed(1234)"
   ]
  },
  {
   "cell_type": "code",
   "execution_count": 3,
   "metadata": {},
   "outputs": [
    {
     "data": {
      "text/plain": [
       "133885"
      ]
     },
     "execution_count": 3,
     "metadata": {},
     "output_type": "execute_result"
    }
   ],
   "source": [
    "from schnetpack import datasets\n",
    "\n",
    "qm9data = datasets.QM9('data/qm9.db', download=True)\n",
    "len(qm9data)"
   ]
  },
  {
   "cell_type": "markdown",
   "metadata": {},
   "source": [
    "The settings for our reconstruction"
   ]
  },
  {
   "cell_type": "code",
   "execution_count": 4,
   "metadata": {},
   "outputs": [],
   "source": [
    "# Number of attempts to reconstruct per structure\n",
    "num_attempts = 3\n",
    "\n",
    "cutoff = 5\n",
    "\n",
    "# Invariants to use\n",
    "invs = invariants.read(invariants.COMPLEX_INVARIANTS) "
   ]
  },
  {
   "cell_type": "markdown",
   "metadata": {},
   "source": [
    "Let's load the subset of indices from the QM9 database we want to use"
   ]
  },
  {
   "cell_type": "code",
   "execution_count": 6,
   "metadata": {},
   "outputs": [],
   "source": [
    "with open('data/qm9_subset.json', 'r') as subset:\n",
    "    test_set = json.load(subset)\n",
    "test_set = {int(key): value for key, value in test_set.items()}"
   ]
  },
  {
   "cell_type": "code",
   "execution_count": 7,
   "metadata": {},
   "outputs": [],
   "source": [
    "columns=('QM9 ID', 'Size', 'Attempt #', 'RMSD', 'Result')"
   ]
  },
  {
   "cell_type": "code",
   "execution_count": 8,
   "metadata": {
    "pycharm": {
     "name": "#%%\n"
    }
   },
   "outputs": [],
   "source": [
    "def do_reconstruction(\n",
    "    qm9data, \n",
    "    test_set,\n",
    "    num_attempts: int,\n",
    "    with_species: bool,\n",
    "    species=None\n",
    "):\n",
    "    results = []\n",
    "    \n",
    "    # Let's create the descriptor we're going to use\n",
    "    descriptor = qm9_utils.create_descriptor(invs, cutoff, apply_cutoff=False)\n",
    "    # Create and re-use the grid query used when finding peaks in the reconstructed moments\n",
    "    grid_query = zernike.ZernikeMoments.create_reconstruction_query(\n",
    "        zernike.ZernikeMoments.get_grid(31), invs.max_order)\n",
    "    \n",
    "    for size, indices in sorted(test_set.items(), reverse=True):\n",
    "        size = int(size)\n",
    "        print(f\"Size {size}:\")\n",
    "        for idx in indices:\n",
    "            print(f\"Idx={idx}:\", end='')\n",
    "\n",
    "            # Get the system\n",
    "            system = qm9data.get_atoms(idx=idx)\n",
    "            max_radius = asetools.prepare_molecule(system) # Centre the molecule and find the max radius.\n",
    "\n",
    "            \n",
    "            # Prepare the milad data type\n",
    "            milad_molecule = asetools.ase2milad(system)\n",
    "            num_atoms = milad_molecule.num_atoms\n",
    "            \n",
    "            if not with_species:\n",
    "                # Species all fixed\n",
    "                milad_molecule.numbers = 1.\n",
    "            \n",
    "            # Calculate the ground truth\n",
    "            fingerprint = descriptor(milad_molecule)\n",
    "\n",
    "            for attempt in range(num_attempts):\n",
    "                print(f\"\\t\", end='')\n",
    "                \n",
    "                initial = qm9_utils.create_initial_atoms(num_atoms, max_radius, include_species=with_species)\n",
    "                \n",
    "\n",
    "                # Finally, optimise the structure wrt to the fingerprint\n",
    "                result = reconstruct.find_iteratively(\n",
    "                    descriptor,\n",
    "                    fingerprint, # Target the fingerprint\n",
    "                    initial,\n",
    "                    find_species=with_species,\n",
    "                    grid_query=grid_query,\n",
    "                    minsep=0.55,\n",
    "                    verbose=False,\n",
    "                )\n",
    "                \n",
    "                print(f'{result.rmsd:5.5}', end='')\n",
    "                \n",
    "                results.append((idx, size, attempt, result.rmsd, result))\n",
    "\n",
    "            print()\n",
    "        \n",
    "    return results"
   ]
  },
  {
   "cell_type": "code",
   "execution_count": 11,
   "metadata": {
    "scrolled": false
   },
   "outputs": [
    {
     "name": "stdout",
     "output_type": "stream",
     "text": [
      "Size 29:\n",
      "Idx=57517:\t0.032109\t0.031845\t0.025984\n",
      "Idx=58098:\t0.031155\t0.044432\t0.04432\n",
      "Idx=58182:\t0.057318\t0.099554\t0.038621\n",
      "Size 27:\n",
      "Idx=42138:\t0.049128\t0.042086\t0.01399\n",
      "Idx=57349:\t3.1079e-10\t0.046525\t1.209e-05\n",
      "Idx=57419:\t0.05818\t0.049564\t0.065609\n",
      "Size 26:\n",
      "Idx=5805:\t0.041691\t0.042301\t0.079548\n",
      "Idx=5810:\t0.03275\t0.026102\t0.03303\n",
      "Idx=5850:\t0.060578\t0.020377\t0.074838\n",
      "Size 25:\n",
      "Idx=36927:\t0.023619\t0.048505\t0.045732\n",
      "Idx=36945:\t0.038764\t0.061525\t0.023479\n",
      "Idx=36959:\t0.039705\t0.039692\t0.031708\n",
      "Size 24:\n",
      "Idx=5806:\t0.029976\t0.030091\t0.044223\n",
      "Idx=5807:\t4.3357e-08\t0.037024\t1.2116e-13\n",
      "Idx=5808:\t0.031051\t0.051669\t0.023312\n",
      "Size 23:\n",
      "Idx=1093:\t0.1642\t0.045891\t0.046713\n",
      "Idx=1103:\t8.6153e-13\t0.021567\t7.4633e-08\n",
      "Idx=1129:\t6.8823e-09\t2.7889e-09\t3.755e-09\n",
      "Size 22:\n",
      "Idx=5796:\t0.0317\t0.50978\t0.16201\n",
      "Idx=5809:\t0.047727\t0.033303\t0.016026\n",
      "Idx=5812:\t1.7314e-11\t2.6648e-11\t4.5969e-11\n",
      "Size 21:\n",
      "Idx=1091:\t9.3609e-15\t0.0082299\t0.016177\n",
      "Idx=1094:\t0.041673\t0.075947\t0.016619\n",
      "Idx=1095:\t0.033138\t0.0084655\t0.033669\n",
      "Size 20:\n",
      "Idx=227:\t0.0159\t0.040374\t5.5436e-13\n",
      "Idx=273:\t0.018793\t0.035972\t0.053166\n",
      "Idx=290:\t2.2415e-11\t6.0394e-10\t0.017307\n",
      "Size 19:\n",
      "Idx=1081:\t0.94084\t0.00033954\t0.9214\n",
      "Idx=1083:\t0.0087274\t3.5667e-09\t0.017762\n",
      "Idx=1087:\t1.3124e-15\t6.4223e-15\t1.8952e-15\n",
      "Size 18:\n",
      "Idx=225:\t0.00013374\t0.033431\t0.024977\n",
      "Idx=228:\t7.4471e-05\t6.8119e-15\t3.1466e-15\n",
      "Idx=229:\t0.00012395\t0.0085311\t0.026669\n",
      "Size 17:\n",
      "Idx=53:\t0.019046\t3.6039e-11\t0.019101\n",
      "Idx=82:\t2.3493e-15\t2.2647e-15\t5.3682e-15\n",
      "Idx=132:\t5.452e-12\t1.8628e-12\t7.2952e-12\n",
      "Size 16:\n",
      "Idx=218:\t7.9689e-09\t0.032254\t0.021376\n",
      "Idx=223:\t0.018898\t1.1832e-11\t0.018839\n",
      "Idx=226:\t1.1689e-12\t1.2096e-12\t8.1278e-13\n",
      "Size 15:\n",
      "Idx=54:\t0.030451\t7.0001e-11\t1.8473e-11\n",
      "Idx=80:\t1.5448e-15\t1.33e-15\t2.8517e-15\n",
      "Idx=83:\t1.017e-15\t4.5864e-15\t1.6863e-15\n",
      "Size 14:\n",
      "Idx=20:\t1.3898e-11\t3.1972e-09\t1.9868e-11\n",
      "Idx=38:\t1.008e-11\t6.3671e-09\t1.3045e-11\n",
      "Idx=101:\t1.9375e-15\t8.8411e-16\t2.734e-15\n",
      "Size 13:\n",
      "Idx=62:\t1.5515e-14\t3.5062e-13\t1.1859e-09\n",
      "Idx=67:\t5.4721e-13\t9.6344e-13\t1.3649e-13\n",
      "Idx=71:\t0.02419\t6.1433e-15\t5.3164e-15\n",
      "Size 12:\n",
      "Idx=21:\t1.4984e-15\t7.5375e-16\t2.4953e-15\n",
      "Idx=39:\t1.0374e-13\t2.25e-13\t5.0129e-13\n",
      "Idx=40:\t6.3941e-14\t0.012976\t7.575e-14\n",
      "Size 11:\n",
      "Idx=12:\t9.984e-12\t4.1381e-12\t1.0725e-11\n",
      "Idx=44:\t3.5121e-12\t3.4498e-12\t3.3377e-12\n",
      "Idx=64:\t8.5022e-16\t1.2179e-15\t3.8489e-12\n",
      "Size 10:\n",
      "Idx=17:\t2.216e-11\t6.4371e-12\t1.396e-11\n",
      "Idx=28:\t5.4379e-12\t2.0133e-12\t6.3956e-12\n",
      "Idx=29:\t2.1395e-12\t2.9844e-13\t2.83e-12\n",
      "Size 9:\n",
      "Idx=13:\t7.3967e-11\t7.3967e-11\t3.2919e-11\n",
      "Idx=14:\t2.7023e-11\t9.904e-12\t9.4114e-12\n",
      "Idx=15:\t2.5903e-11\t2.174e-11\t1.3546e-11\n",
      "Size 8:\n",
      "Idx=6:\t4.123e-11\t3.697e-11\t5.7152e-11\n",
      "Idx=19:\t1.3086e-11\t2.3104e-11\t8.453e-12\n",
      "Idx=31:\t9.5311e-16\t1.0513e-15\t1.4334e-15\n",
      "Size 7:\n",
      "Idx=8:\t1.8254e-12\t1.5059e-12\t1.7698e-12\n",
      "Idx=10:\t7.637e-14\t9.8924e-13\t7.3985e-14\n",
      "Idx=16:\t9.1731e-12\t2.4791e-11\t1.1337e-11\n",
      "Size 6:\n",
      "Idx=7:\t6.1231e-10\t6.1217e-10\t6.1238e-10\n",
      "Idx=9:\t2.0197e-10\t3.1803e-13\t1.4984e-11\n",
      "Idx=11:\t8.862e-11\t1.2048e-12\t2.5844e-10\n",
      "Size 5:\n",
      "Idx=0:\t4.1036e-11\t4.4691e-12\t9.1022e-12\n",
      "Idx=23:\t0.00080751\t0.00080751\t0.00080751\n",
      "Idx=26:\t6.6523e-14\t1.3453e-10\t1.3399e-10\n",
      "Size 4:\n",
      "Idx=1:\t5.297e-12\t5.8622e-10\t5.7984e-10\n",
      "Idx=3:\t4.7831e-12\t1.2944e-11\t8.6276e-11\n",
      "Idx=5:\t7.432e-12\t1.4759e-11\t4.2676e-12\n",
      "Size 3:\n",
      "Idx=2:\t9.5493e-12\t1.6423e-11\t1.376e-11\n",
      "Idx=4:\t3.6055e-12\t3.9773e-12\t3.1107e-12\n"
     ]
    }
   ],
   "source": [
    "results = do_reconstruction(\n",
    "    qm9data, \n",
    "    test_set,\n",
    "    num_attempts, \n",
    "    with_species=True,\n",
    "    species=qm9_utils.species,\n",
    ")\n",
    "with_species_frame = pandas.DataFrame(results, columns=columns)"
   ]
  },
  {
   "cell_type": "code",
   "execution_count": 12,
   "metadata": {},
   "outputs": [],
   "source": [
    "with_species_frame.to_pickle('structure_recovery_iterative_with_species.pickle')"
   ]
  },
  {
   "cell_type": "code",
   "execution_count": 9,
   "metadata": {
    "scrolled": false
   },
   "outputs": [
    {
     "name": "stdout",
     "output_type": "stream",
     "text": [
      "Size 29:\n",
      "Idx=57517:\t4.0123e-11\t3.4408e-11\t2.4334e-11\n",
      "Idx=58098:\t1.0915e-08\t9.1729e-09\t1.4363e-08\n",
      "Idx=58182:\t0.0090292\t0.0099889\t5.112e-13\n",
      "Size 27:\n",
      "Idx=42138:\t4.9004e-09\t7.3896e-09\t6.2858e-08\n",
      "Idx=57349:\t1.1819e-11\t2.8756e-11\t1.2472e-11\n",
      "Idx=57419:\t0.041954\t1.8774e-14\t0.020114\n",
      "Size 26:\n",
      "Idx=5805:\t0.00049622\t0.0065494\t1.1596e-14\n",
      "Idx=5810:\t3.1883e-08\t2.8429e-08\t3.226e-10\n",
      "Idx=5850:\t0.024731\t0.035814\t0.07438\n",
      "Size 25:\n",
      "Idx=36927:\t0.013411\t0.007343\t2.4609e-14\n",
      "Idx=36945:\t4.8214e-08\t6.4875e-10\t1.8972e-10\n",
      "Idx=36959:\t1.4562e-05\t0.00012678\t1.4385e-10\n",
      "Size 24:\n",
      "Idx=5806:\t9.5958e-15\t7.8089e-15\t6.0935e-15\n",
      "Idx=5807:\t5.515e-08\t4.069e-08\t5.515e-08\n",
      "Idx=5808:\t4.8672e-15\t1.3867e-14\t1.4423e-14\n",
      "Size 23:\n",
      "Idx=1093:\t0.18946\t2.2135e-09\t2.106e-09\n",
      "Idx=1103:\t7.826e-08\t7.826e-08\t7.826e-08\n",
      "Idx=1129:\t8.5294e-09\t6.15e-09\t6.0581e-09\n",
      "Size 22:\n",
      "Idx=5796:\t0.464\t0.56905\t1.1704e-13\n",
      "Idx=5809:\t2.0931e-14\t9.8656e-15\t0.024615\n",
      "Idx=5812:\t3.719e-11\t9.0807e-12\t2.1762e-11\n",
      "Size 21:\n",
      "Idx=1091:\t7.5987e-15\t4.1477e-08\t1.5638e-14\n",
      "Idx=1094:\t3.517e-14\t1.2812e-14\t6.7633e-15\n",
      "Idx=1095:\t2.6349e-11\t3.0186e-10\t5.9271e-11\n",
      "Size 20:\n",
      "Idx=227:\t6.11e-13\t1.3444e-09\t2.3806e-09\n",
      "Idx=273:\t0.044513\t0.057102\t0.067186\n",
      "Idx=290:\t3.1058e-11\t2.7208e-11\t4.1054e-11\n",
      "Size 19:\n",
      "Idx=1081:\t1.6342e-10\t1.6613e-10\t1.5791e-10\n",
      "Idx=1083:\t4.8215e-14\t1.1793e-12\t0.89437\n",
      "Idx=1087:\t1.2321e-15\t0.011093\t7.0716e-13\n",
      "Size 18:\n",
      "Idx=225:\t2.8273e-12\t7.2164e-13\t1.2107e-11\n",
      "Idx=228:\t1.4193e-15\t0.012442\t0.00028145\n",
      "Idx=229:\t3.4657e-10\t2.1437e-12\t3.5019e-10\n",
      "Size 17:\n",
      "Idx=53:\t2.0631e-11\t1.9914e-11\t2.8907e-11\n",
      "Idx=82:\t0.00056255\t9.0515e-15\t1.9772e-15\n",
      "Idx=132:\t1.8375e-08\t1.8375e-08\t1.8366e-08\n",
      "Size 16:\n",
      "Idx=218:\t2.3532e-11\t3.9512e-08\t1.7301e-08\n",
      "Idx=223:\t7.3448e-11\t6.1319e-11\t2.5947e-11\n",
      "Idx=226:\t4.9537e-09\t6.4318e-09\t1.5225e-08\n",
      "Size 15:\n",
      "Idx=54:\t2.6495e-11\t7.3641e-11\t7.1884e-11\n",
      "Idx=80:\t9.1575e-14\t4.2811e-15\t0.00068606\n",
      "Idx=83:\t1.6234e-13\t0.00089613\t0.00089613\n",
      "Size 14:\n",
      "Idx=20:\t1.4277e-11\t1.1885e-11\t1.4856e-11\n",
      "Idx=38:\t5.6388e-09\t8.1694e-09\t5.5621e-09\n",
      "Idx=101:\t1.0737e-13\t6.1962e-14\t1.7049e-15\n",
      "Size 13:\n",
      "Idx=62:\t4.3601e-13\t1.2713e-13\t2.0131e-13\n",
      "Idx=67:\t3.8129e-13\t1.4431e-13\t2.2499e-14\n",
      "Idx=71:\t9.0793e-14\t1.2214e-14\t2.1009e-13\n",
      "Size 12:\n",
      "Idx=21:\t1.1018e-15\t6.8507e-16\t4.6924e-13\n",
      "Idx=39:\t2.5595e-14\t2.1494e-14\t5.3053e-14\n",
      "Idx=40:\t4.9481e-14\t7.5794e-15\t9.7751e-14\n",
      "Size 11:\n",
      "Idx=12:\t7.2331e-12\t1.2777e-11\t5.2724e-12\n",
      "Idx=44:\t5.9445e-12\t4.0348e-12\t1.6515e-11\n",
      "Idx=64:\t9.5048e-16\t1.9279e-13\t4.4169e-13\n",
      "Size 10:\n",
      "Idx=17:\t1.1517e-11\t3.8192e-12\t1.1412e-11\n",
      "Idx=28:\t3.4715e-12\t1.6401e-12\t1.2207e-12\n",
      "Idx=29:\t5.8154e-14\t1.8224e-12\t4.637e-13\n",
      "Size 9:\n",
      "Idx=13:\t9.9457e-11\t5.8801e-11\t1.0155e-10\n",
      "Idx=14:\t9.3257e-12\t3.7973e-12\t2.7125e-12\n",
      "Idx=15:\t4.1671e-11\t6.0709e-11\t9.7376e-11\n",
      "Size 8:\n",
      "Idx=6:\t1.894e-11\t4.0079e-11\t2.2072e-11\n",
      "Idx=19:\t3.1916e-11\t3.0799e-11\t2.2814e-11\n",
      "Idx=31:\t1.1771e-15\t1.1451e-14\t5.6327e-13\n",
      "Size 7:\n",
      "Idx=8:\t2.2492e-10\t2.2449e-10\t7.4558e-13\n",
      "Idx=10:\t1.4506e-08\t1.0277e-13\t2.3768e-13\n",
      "Idx=16:\t7.8238e-12\t6.7498e-12\t7.1812e-12\n",
      "Size 6:\n",
      "Idx=7:\t2.1077e-12\t4.9794e-12\t1.9695e-12\n",
      "Idx=9:\t2.2071e-11\t1.3094e-10\t1.3753e-10\n",
      "Idx=11:\t1.4461e-10\t0.00035581\t0.00035581\n",
      "Size 5:\n",
      "Idx=0:\t2.3324e-11\t2.1505e-11\t1.3109e-11\n",
      "Idx=23:\t3.272e-12\t1.7642e-11\t2.1945e-12\n",
      "Idx=26:\t1.5238e-12\t5.8868e-12\t1.6476e-11\n",
      "Size 4:\n",
      "Idx=1:\t9.9983e-11\t6.4631e-11\t1.2909e-11\n",
      "Idx=3:\t1.9008e-11\t4.2837e-11\t1.4901e-11\n",
      "Idx=5:\t6.8832e-12\t7.0918e-12\t5.0976e-12\n",
      "Size 3:\n",
      "Idx=2:\t7.4741e-12\t3.8727e-11\t2.2845e-11\n",
      "Idx=4:\t6.7988e-12\t9.6551e-12\t1.9917e-11\n"
     ]
    }
   ],
   "source": [
    "results = do_reconstruction(\n",
    "    qm9data, \n",
    "    test_set,\n",
    "    num_attempts,\n",
    "    with_species=False,\n",
    ")\n",
    "no_species_frame = pandas.DataFrame(results, columns=columns)"
   ]
  },
  {
   "cell_type": "code",
   "execution_count": 10,
   "metadata": {},
   "outputs": [],
   "source": [
    "no_species_frame.to_pickle('structure_recovery_iterative_no_species.pickle')"
   ]
  },
  {
   "cell_type": "code",
   "execution_count": null,
   "metadata": {},
   "outputs": [],
   "source": []
  }
 ],
 "metadata": {
  "@webio": {
   "lastCommId": null,
   "lastKernelId": null
  },
  "kernelspec": {
   "display_name": "Python 3",
   "language": "python",
   "name": "python3"
  },
  "language_info": {
   "codemirror_mode": {
    "name": "ipython",
    "version": 3
   },
   "file_extension": ".py",
   "mimetype": "text/x-python",
   "name": "python",
   "nbconvert_exporter": "python",
   "pygments_lexer": "ipython3",
   "version": "3.8.5"
  }
 },
 "nbformat": 4,
 "nbformat_minor": 1
}
