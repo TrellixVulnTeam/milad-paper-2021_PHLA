{
 "cells": [
  {
   "cell_type": "markdown",
   "metadata": {},
   "source": [
    "## Reconstruction of structures from reconstructed moments\n",
    "\n",
    "This notebook takes a bunch of structure from the QM9 dataset, creates the corresponding invariants and tries to reconstruct the corresponding molecule by first finding peaks in reconstruction from moments"
   ]
  },
  {
   "cell_type": "code",
   "execution_count": 1,
   "metadata": {},
   "outputs": [],
   "source": [
    "import random\n",
    "import json\n",
    "\n",
    "import numpy as np\n",
    "import pandas\n",
    "\n",
    "import milad\n",
    "from milad.play import asetools\n",
    "from milad import invariants\n",
    "from milad import reconstruct\n",
    "\n",
    "import qm9_utils"
   ]
  },
  {
   "cell_type": "code",
   "execution_count": 2,
   "metadata": {},
   "outputs": [],
   "source": [
    "random.seed(1234)\n",
    "np.random.seed(1234)"
   ]
  },
  {
   "cell_type": "code",
   "execution_count": 3,
   "metadata": {},
   "outputs": [
    {
     "data": {
      "text/plain": [
       "133885"
      ]
     },
     "execution_count": 3,
     "metadata": {},
     "output_type": "execute_result"
    }
   ],
   "source": [
    "from schnetpack import datasets\n",
    "\n",
    "qm9data = datasets.QM9('data/qm9.db', download=True)\n",
    "len(qm9data)"
   ]
  },
  {
   "cell_type": "markdown",
   "metadata": {},
   "source": [
    "The settings for our reconstruction"
   ]
  },
  {
   "cell_type": "code",
   "execution_count": 4,
   "metadata": {},
   "outputs": [],
   "source": [
    "# Number of attempts to reconstruct per structure\n",
    "num_attempts = 3\n",
    "\n",
    "cutoff = 5\n",
    "\n",
    "# Invariants to use\n",
    "invs = invariants.read(invariants.COMPLEX_INVARIANTS) "
   ]
  },
  {
   "cell_type": "code",
   "execution_count": 5,
   "metadata": {},
   "outputs": [],
   "source": [
    "# Optimisers to use\n",
    "structure_optimiser = milad.optimisers.StructureOptimiser() \n",
    "moments_optimiser = milad.optimisers.MomentsOptimiser() \n",
    "lstsq_optimiser = milad.optimisers.LeastSquaresOptimiser() "
   ]
  },
  {
   "cell_type": "markdown",
   "metadata": {},
   "source": [
    "Let's load the subset of indices from the QM9 database we want to use"
   ]
  },
  {
   "cell_type": "code",
   "execution_count": 6,
   "metadata": {},
   "outputs": [],
   "source": [
    "with open('data/qm9_subset.json', 'r') as subset:\n",
    "    test_set = json.load(subset)\n",
    "test_set = {int(key): value for key, value in test_set.items()}"
   ]
  },
  {
   "cell_type": "code",
   "execution_count": 7,
   "metadata": {},
   "outputs": [],
   "source": [
    "columns=('QM9 ID', 'Size', 'Attempt #', 'RMSD', 'Result')"
   ]
  },
  {
   "cell_type": "code",
   "execution_count": 15,
   "metadata": {
    "pycharm": {
     "name": "#%%\n"
    }
   },
   "outputs": [],
   "source": [
    "def do_reconstruction(\n",
    "    qm9data, \n",
    "    test_set,\n",
    "    num_attempts: int,\n",
    "    with_species: bool,\n",
    "    species\n",
    "):\n",
    "    results = []\n",
    "    \n",
    "    # Let's create the descriptor we're going to use\n",
    "    descriptor = qm9_utils.create_descriptor(invs, cutoff, apply_cutoff=False)\n",
    "    \n",
    "    for size, indices in sorted(test_set.items(), reverse=True):\n",
    "        size = int(size)\n",
    "        print(f\"Size {size}:\")\n",
    "        for idx in indices:\n",
    "            print(f\"Idx={idx}:\", end='')\n",
    "\n",
    "            # Get the system\n",
    "            system = qm9data.get_atoms(idx=idx)\n",
    "            max_radius = asetools.prepare_molecule(system) # Centre the molecule and find the max radius.\n",
    "\n",
    "            \n",
    "            # Prepare the milad data type\n",
    "            milad_molecule = asetools.ase2milad(system)\n",
    "            num_atoms = milad_molecule.num_atoms\n",
    "            \n",
    "            if not with_species:\n",
    "                # Species all fixed\n",
    "                milad_molecule.numbers = 1.\n",
    "            \n",
    "            # Calculate the ground truth\n",
    "            fingerprint = descriptor(milad_molecule)\n",
    "\n",
    "            for attempt in range(num_attempts):\n",
    "                print(f\"...\", end='')\n",
    "                \n",
    "                initial = milad.atomic.random_atom_collection_in_sphere(\n",
    "                    num_atoms, max_radius, centre=True)\n",
    "                # Set the species appropriately\n",
    "                initial.numbers = np.array(random.choices(species, k=num_atoms)) if with_species else 1.\n",
    "\n",
    "                # Finally, optimise the structure wrt to the fingerprint\n",
    "                result = reconstruct.find_iteratively(\n",
    "                    descriptor,\n",
    "                    fingerprint, # Target the fingerprint\n",
    "                    num_atoms,\n",
    "                    initial,\n",
    "                    find_species=with_species,\n",
    "                    verbose=False,\n",
    "                )\n",
    "                \n",
    "                print(f'{result.rmsd:5.5}', end='')\n",
    "                \n",
    "                results.append((idx, size, attempt, result.rmsd, result))\n",
    "\n",
    "            print()\n",
    "        \n",
    "    return results"
   ]
  },
  {
   "cell_type": "code",
   "execution_count": 9,
   "metadata": {
    "scrolled": false
   },
   "outputs": [
    {
     "name": "stdout",
     "output_type": "stream",
     "text": [
      "Size 29:\n",
      "Idx=57517:...9.9235e-10...1.823e-09...3.4432e-09\n",
      "Idx=58098:...1.4395e-08...1.2601e-08...1.127e-08\n",
      "Idx=58182:...2.4972e-11...3.0174e-12...0.0089994\n",
      "Size 27:\n",
      "Idx=42138:...1.9077e-07...1.846e-07...1.8451e-07\n",
      "Idx=57349:...0.032259...0.032371...3.5915e-08\n",
      "Idx=57419:...0.043991...0.00059066...1.1894e-12\n",
      "Size 26:\n",
      "Idx=5805:...2.2202e-13...0.006529...1.4644e-12\n",
      "Idx=5810:...5.8025e-08...3.206e-08...2.1161e-08\n",
      "Idx=5850:...0.07384...0.035701...0.042092\n",
      "Size 25:\n",
      "Idx=36927:...0.0073437...0.013412...5.5853e-13\n",
      "Idx=36945:...3.6285e-08...1.3966e-09...4.6081e-10\n",
      "Idx=36959:...2.0911e-05...0.00024014...2.1334e-05\n",
      "Size 24:\n",
      "Idx=5806:...4.8795e-15...1.858e-14...1.2294e-12\n",
      "Idx=5807:...5.5151e-08...1.4444e-11...2.2878e-10\n",
      "Idx=5808:...0.0040641...0.0040353...9.2665e-14\n",
      "Size 23:\n",
      "Idx=1093:...0.1855...2.8843e-09...0.18552\n",
      "Idx=1103:...7.6492e-10...1.2016e-09...7.8261e-08\n",
      "Idx=1129:...6.0579e-09...7.31e-09...3.3898e-09\n",
      "Size 22:\n",
      "Idx=5796:...0.22505...0.22873...0.22506\n",
      "Idx=5809:...6.5509e-13...0.025523...0.015292\n",
      "Idx=5812:...7.1218e-09...3.1028e-09...1.4848e-09\n",
      "Size 21:\n",
      "Idx=1091:...2.0951e-09...6.8246e-08...5.1956e-08\n",
      "Idx=1094:...0.00085123...0.054642...1.1838e-14\n",
      "Idx=1095:...2.842e-10...0.16769...5.473e-10\n",
      "Size 20:\n",
      "Idx=227:...6.0583e-09...2.2671e-09...0.013257\n",
      "Idx=273:...0.044475...0.066063...1.3536e-11\n",
      "Idx=290:...1.5331e-09...8.8667e-10...2.5622e-09\n",
      "Size 19:\n",
      "Idx=1081:...6.5983e-10...2.9888e-10...1.61e-10\n",
      "Idx=1083:...7.6625e-10...0.89664...5.8784e-10\n",
      "Idx=1087:...2.3439e-12...4.0016e-13...5.6718e-14\n",
      "Size 18:\n",
      "Idx=225:...8.9786e-09...8.0221e-09...2.5685e-09\n",
      "Idx=228:...0.00069836...2.0913e-11...5.4254e-12\n",
      "Idx=229:...2.9648e-09...6.5086e-10...9.6141e-10\n",
      "Size 17:\n",
      "Idx=53:...1.6643e-09...2.264e-09...2.6149e-09\n",
      "Idx=82:...0.0031661...5.3627e-15...0.0022332\n",
      "Idx=132:...1.4459e-10...1.8374e-08...1.8367e-08\n",
      "Size 16:\n",
      "Idx=218:...6.7209e-11...3.9469e-08...3.9471e-08\n",
      "Idx=223:...1.9912e-09...1.2198e-09...2.3541e-09\n",
      "Idx=226:...9.5502e-09...1.4909e-09...1.0725e-09\n",
      "Size 15:\n",
      "Idx=54:...6.4613e-10...2.0951e-09...1.1857e-09\n",
      "Idx=80:...5.2797e-12...8.7377e-11...4.7618e-14\n",
      "Idx=83:...0.0032944...0.00057863...2.3817e-12\n",
      "Size 14:\n",
      "Idx=20:...3.1963e-09...6.0828e-10...4.2318e-09\n",
      "Idx=38:...5.7179e-09...5.7417e-09...5.8404e-09\n",
      "Idx=101:...2.6806e-13...8.1852e-11...1.0639e-13\n",
      "Size 13:\n",
      "Idx=62:...1.174e-09...7.4972e-10...6.2181e-10\n",
      "Idx=67:...4.4212e-09...1.3057e-09...1.3707e-09\n",
      "Idx=71:...1.0978e-06...6.761e-12...7.0554e-11\n",
      "Size 12:\n",
      "Idx=21:...2.2437e-12...6.1404e-14...6.915e-13\n",
      "Idx=39:...2.0321e-09...4.1323e-09...2.7736e-09\n",
      "Idx=40:...4.8991e-09...9.5021e-10...2.538e-10\n",
      "Size 11:\n",
      "Idx=12:...2.517e-09...2.8765e-09...2.1054e-09\n",
      "Idx=44:...3.0958e-10...2.5452e-09...5.4679e-10\n",
      "Idx=64:...4.2969e-13...0.0061526...0.005278\n",
      "Size 10:\n",
      "Idx=17:...8.5706e-10...7.5634e-10...3.9937e-10\n",
      "Idx=28:...6.4451e-10...4.1351e-10...1.8738e-10\n",
      "Idx=29:...1.0263e-09...8.8741e-10...2.4543e-10\n",
      "Size 9:\n",
      "Idx=13:...3.3382e-10...1.9724e-09...6.2921e-10\n",
      "Idx=14:...2.6358e-10...1.9388e-09...1.1985e-09\n",
      "Idx=15:...1.4415e-09...1.0218e-09...2.8681e-09\n",
      "Size 8:\n",
      "Idx=6:...3.5866e-09...3.6245e-10...3.1872e-09\n",
      "Idx=19:...1.8789e-09...1.9089e-09...4.2614e-09\n",
      "Idx=31:...1.0019e-10...8.9537e-12...3.6795e-11\n",
      "Size 7:\n",
      "Idx=8:...2.9689e-10...1.1908e-09...5.0519e-10\n",
      "Idx=10:...4.9364e-10...7.8338e-10...4.2453e-10\n",
      "Idx=16:...2.9236e-10...1.132e-09...8.8274e-10\n",
      "Size 6:\n",
      "Idx=7:...1.1176e-09...2.6023e-09...3.9583e-09\n",
      "Idx=9:...1.8002e-09...1.2211e-09...1.2378e-09\n",
      "Idx=11:...9.3558e-10...0.00035582...9.368e-10\n",
      "Size 5:\n",
      "Idx=0:...2.7748e-09...2.8086e-09...2.0051e-09\n",
      "Idx=23:...8.0458e-10...1.7212e-09...8.098e-10\n",
      "Idx=26:...1.1952e-10...1.8489e-10...3.3374e-10\n",
      "Size 4:\n",
      "Idx=1:...1.4255e-09...1.3466e-09...1.865e-09\n",
      "Idx=3:...9.4606e-10...1.2467e-08...1.3241e-09\n",
      "Idx=5:...7.024e-10...3.0574e-09...8.8409e-10\n",
      "Size 3:\n",
      "Idx=2:...5.4456e-10...3.0097e-10...4.2882e-09\n",
      "Idx=4:...2.4328e-09...6.1653e-10...5.7995e-10\n"
     ]
    }
   ],
   "source": [
    "results = do_reconstruction(\n",
    "    qm9data, \n",
    "    test_set,\n",
    "    num_attempts,\n",
    "    with_species=False,\n",
    ")\n",
    "no_species_frame = pandas.DataFrame(results, columns=columns)"
   ]
  },
  {
   "cell_type": "code",
   "execution_count": 10,
   "metadata": {},
   "outputs": [],
   "source": [
    "no_species_frame.to_pickle('structure_recovery_iterative_no_species.pickle')"
   ]
  },
  {
   "cell_type": "code",
   "execution_count": 16,
   "metadata": {},
   "outputs": [
    {
     "name": "stdout",
     "output_type": "stream",
     "text": [
      "Size 29:\n",
      "Idx=57517:...0.006377...0.013607...5.287e-05\n",
      "Idx=58098:...0.0063496...0.006336...0.0057216\n",
      "Idx=58182:...0.016476...0.0064672...0.01497\n",
      "Size 27:\n",
      "Idx=42138:...0.0075256...0.00014443...0.00018096\n",
      "Idx=57349:...0.046303...0.012052...0.033991\n",
      "Idx=57419:...0.0068903...0.030577...0.030936\n",
      "Size 26:\n",
      "Idx=5805:...0.00038371...0.00021989...0.0068823\n",
      "Idx=5810:...0.0067983...5.5864e-05...0.0060944\n",
      "Idx=5850:...0.045572...0.0070716...0.064043\n",
      "Size 25:\n",
      "Idx=36927:...0.0079092...0.00072325...0.017752\n",
      "Idx=36945:...3.3114e-10...0.0077763...4.8575e-10\n",
      "Idx=36959:...0.0080262...0.016316...0.0078236\n",
      "Size 24:\n",
      "Idx=5806:...0.00043183...0.015271...0.008502\n",
      "Idx=5807:...0.0075291...0.00015913...0.030838\n",
      "Idx=5808:...0.007524...0.007463...0.0076204\n",
      "Size 23:\n",
      "Idx=1093:...0.0078143...0.00014179...3.6722e-09\n",
      "Idx=1103:...0.0074871...4.8379e-05...0.015134\n",
      "Idx=1129:...3.7512e-09...0.0078103...0.0077937\n",
      "Size 22:\n",
      "Idx=5796:...0.15956...0.17293...0.00037842\n",
      "Idx=5809:...0.00080488...0.0080117...0.012038\n",
      "Idx=5812:...0.0077003...0.00035135...0.007737\n",
      "Size 21:\n",
      "Idx=1091:...0.0084923...0.00046339...0.00014953\n",
      "Idx=1094:...0.0011045...0.0084368...0.00025801\n",
      "Idx=1095:...0.00096046...0.0082854...0.017111\n",
      "Size 20:\n",
      "Idx=227:...0.011226...0.00010509...0.0078773\n",
      "Idx=273:...0.00035841...0.074595...0.01783\n",
      "Idx=290:...3.1732e-09...6.7788e-09...1.4837e-09\n",
      "Size 19:\n",
      "Idx=1081:...3.4565e-10...3.5644e-10...1.2152e-09\n",
      "Idx=1083:...0.010025...0.00977...0.0099149\n",
      "Idx=1087:...0.00071967...0.0099648...0.00085207\n",
      "Size 18:\n",
      "Idx=225:...0.01801...2.3518e-09...0.0082519\n",
      "Idx=228:...0.0091309...0.00094608...0.017315\n",
      "Idx=229:...0.00027471...0.0085734...0.00029767\n",
      "Size 17:\n",
      "Idx=53:...1.4832e-09...3.1472e-09...1.7888e-09\n",
      "Idx=82:...0.0092952...0.0092632...0.0093739\n",
      "Idx=132:...7.4474e-08...7.6431e-08...7.5005e-08\n",
      "Size 16:\n",
      "Idx=218:...6.4457e-09...0.00038132...0.014803\n",
      "Idx=223:...0.00041362...4.5796e-09...0.0092036\n",
      "Idx=226:...7.448e-09...0.0095003...6.3387e-09\n",
      "Size 15:\n",
      "Idx=54:...1.3871e-09...0.010443...0.020561\n",
      "Idx=80:...0.012615...0.018295...0.019564\n",
      "Idx=83:...0.0066038...0.012059...0.013152\n",
      "Size 14:\n",
      "Idx=20:...1.4304e-09...1.0209e-09...1.7262e-09\n",
      "Idx=38:...6.5468e-09...8.688e-09...8.8894e-09\n",
      "Idx=101:...0.010503...0.00031606...2.1419e-15\n",
      "Size 13:\n",
      "Idx=62:...0.00027238...0.00011435...4.8212e-10\n",
      "Idx=67:...1.8118e-08...1.8331e-08...1.973e-08\n",
      "Idx=71:...2.7902e-12...2.7331e-13...2.2587e-11\n",
      "Size 12:\n",
      "Idx=21:...8.4196e-13...1.7904e-13...0.00052123\n",
      "Idx=39:...0.012995...9.2238e-10...5.4779e-08\n",
      "Idx=40:...4.7346e-09...4.8067e-10...5.3563e-09\n",
      "Size 11:\n",
      "Idx=12:...2.7682e-09...2.3822e-09...2.8581e-09\n",
      "Idx=44:...1.6074e-09...1.352e-09...2.7127e-10\n",
      "Idx=64:...0.0080548...0.0079148...0.01551\n",
      "Size 10:\n",
      "Idx=17:...3.6136e-09...2.4595e-09...4.8736e-09\n",
      "Idx=28:...1.3902e-10...1.207e-10...7.9731e-11\n",
      "Idx=29:...1.8417e-10...5.2914e-10...2.7903e-10\n",
      "Size 9:\n",
      "Idx=13:...7.8718e-10...2.4037e-09...1.7705e-09\n",
      "Idx=14:...5.3818e-10...2.9488e-10...4.0407e-10\n",
      "Idx=15:...1.5073e-09...1.1089e-09...1.9832e-09\n",
      "Size 8:\n",
      "Idx=6:...3.0232e-10...5.3788e-10...5.6656e-10\n",
      "Idx=19:...3.1404e-09...1.5081e-09...1.5448e-09\n",
      "Idx=31:...8.9451e-13...5.3086e-11...9.5441e-11\n",
      "Size 7:\n",
      "Idx=8:...5.0266e-10...5.6455e-10...7.2253e-10\n",
      "Idx=10:...2.1087e-08...2.2503e-10...1.0231e-08\n",
      "Idx=16:...1.3935e-09...2.6975e-09...6.7823e-10\n",
      "Size 6:\n",
      "Idx=7:...4.1448e-09...4.5138e-09...2.2921e-09\n",
      "Idx=9:...4.5915e-10...2.2766e-09...1.7992e-09\n",
      "Idx=11:...9.1886e-10...6.3125e-10...1.2494e-09\n",
      "Size 5:\n",
      "Idx=0:...4.8812e-09...1.2747e-09...2.9607e-09\n",
      "Idx=23:...2.1692e-10...8.91e-10...1.8196e-10\n",
      "Idx=26:...2.4051e-10...9.1729e-10...1.5976e-10\n",
      "Size 4:\n",
      "Idx=1:...1.312e-09...1.7935e-09...8.1853e-09\n",
      "Idx=3:...2.7277e-10...5.4116e-10...5.7156e-10\n",
      "Idx=5:...2.6571e-10...3.6629e-09...4.4709e-09\n",
      "Size 3:\n",
      "Idx=2:...5.0224e-08...2.918e-09...1.9784e-09\n",
      "Idx=4:...1.7117e-09...1.0753e-09...1.2475e-09\n"
     ]
    }
   ],
   "source": [
    "results = do_reconstruction(\n",
    "    qm9data, \n",
    "    test_set,\n",
    "    num_attempts, \n",
    "    with_species=True,\n",
    "    species=qm9_utils.species,\n",
    ")\n",
    "with_species_frame = pandas.DataFrame(results, columns=columns)"
   ]
  },
  {
   "cell_type": "code",
   "execution_count": 17,
   "metadata": {},
   "outputs": [],
   "source": [
    "with_species_frame.to_pickle('structure_recovery_iterative_with_species.pickle')"
   ]
  },
  {
   "cell_type": "code",
   "execution_count": null,
   "metadata": {},
   "outputs": [],
   "source": []
  }
 ],
 "metadata": {
  "@webio": {
   "lastCommId": null,
   "lastKernelId": null
  },
  "kernelspec": {
   "display_name": "Python 3",
   "language": "python",
   "name": "python3"
  },
  "language_info": {
   "codemirror_mode": {
    "name": "ipython",
    "version": 3
   },
   "file_extension": ".py",
   "mimetype": "text/x-python",
   "name": "python",
   "nbconvert_exporter": "python",
   "pygments_lexer": "ipython3",
   "version": "3.8.5"
  }
 },
 "nbformat": 4,
 "nbformat_minor": 1
}