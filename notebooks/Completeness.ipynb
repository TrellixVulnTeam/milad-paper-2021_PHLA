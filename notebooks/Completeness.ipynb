{
 "cells": [
  {
   "cell_type": "code",
   "execution_count": 27,
   "id": "de2bb224",
   "metadata": {},
   "outputs": [],
   "source": [
    "import ase\n",
    "from ase.visualize import view\n",
    "import matplotlib.pyplot as plt\n",
    "import numpy as np\n",
    "from scipy.spatial import distance\n",
    "\n",
    "import milad\n",
    "from milad import atomic\n",
    "from milad import fingerprinting\n",
    "from milad import generate\n",
    "from milad import invariants\n",
    "from milad import optimisers\n",
    "from milad import reconstruct\n",
    "from milad import zernike"
   ]
  },
  {
   "cell_type": "markdown",
   "id": "bb3cb068",
   "metadata": {},
   "source": [
    "Load the structures from Pozdnyakov, S. N., Willatt, M. J., Bartók, A. P., Ortner, C., Csányi, G., & Ceriotti, M. (2020). Incompleteness of Atomic Structure Representations. Physical Review Letters, 125(16), 166001. http://doi.org/10.1103/PhysRevLett.125.166001"
   ]
  },
  {
   "cell_type": "code",
   "execution_count": 12,
   "id": "fd95bf3d",
   "metadata": {},
   "outputs": [],
   "source": [
    "one, two = generate.chiral_tetrahedra()\n",
    "natoms = len(one)"
   ]
  },
  {
   "cell_type": "code",
   "execution_count": 3,
   "id": "dbd27279",
   "metadata": {},
   "outputs": [
    {
     "data": {
      "application/vnd.jupyter.widget-view+json": {
       "model_id": "04141ce5a7a748d083394ad4d40d0ba0",
       "version_major": 2,
       "version_minor": 0
      },
      "text/plain": []
     },
     "metadata": {},
     "output_type": "display_data"
    },
    {
     "data": {
      "application/vnd.jupyter.widget-view+json": {
       "model_id": "298a579d32bb4c4caef55d00dd6555dc",
       "version_major": 2,
       "version_minor": 0
      },
      "text/plain": [
       "HBox(children=(NGLWidget(), VBox(children=(Dropdown(description='Show', options=('All', 'X'), value='All'), Dr…"
      ]
     },
     "metadata": {},
     "output_type": "display_data"
    }
   ],
   "source": [
    "view(ase.Atoms(positions=6. * one), viewer='ngl')"
   ]
  },
  {
   "cell_type": "code",
   "execution_count": 4,
   "id": "b2ac1791",
   "metadata": {},
   "outputs": [
    {
     "data": {
      "application/vnd.jupyter.widget-view+json": {
       "model_id": "d046e37fcd384bdab9b193e2aaf3046d",
       "version_major": 2,
       "version_minor": 0
      },
      "text/plain": [
       "HBox(children=(NGLWidget(), VBox(children=(Dropdown(description='Show', options=('All', 'X'), value='All'), Dr…"
      ]
     },
     "metadata": {},
     "output_type": "display_data"
    }
   ],
   "source": [
    "view(ase.Atoms(positions=6. * two), viewer='ngl')"
   ]
  },
  {
   "cell_type": "markdown",
   "id": "fb46992e",
   "metadata": {},
   "source": [
    "Load Zernike invariants up to $n_\\text{max} = 7$"
   ]
  },
  {
   "cell_type": "code",
   "execution_count": 5,
   "id": "f7fc08e1",
   "metadata": {},
   "outputs": [],
   "source": [
    "complex_invariants = invariants.read('complex')"
   ]
  },
  {
   "cell_type": "markdown",
   "id": "c9fb6d61",
   "metadata": {},
   "source": [
    "Create the moments and then calculate the fingerprint"
   ]
  },
  {
   "cell_type": "code",
   "execution_count": 6,
   "id": "bf5376bb",
   "metadata": {},
   "outputs": [],
   "source": [
    "phi_left = complex_invariants(zernike.from_deltas(7, one))\n",
    "phi_right = complex_invariants(zernike.from_deltas(7, two))\n",
    "diff = phi_left - phi_right"
   ]
  },
  {
   "cell_type": "code",
   "execution_count": 7,
   "id": "951c180e",
   "metadata": {},
   "outputs": [
    {
     "data": {
      "image/png": "[encoded data removed]",
      "text/plain": [
       "<Figure size 540x216 with 1 Axes>"
      ]
     },
     "metadata": {
      "needs_background": "light"
     },
     "output_type": "display_data"
    }
   ],
   "source": [
    "xvals = tuple(range(len(diff)))\n",
    "plt.figure(figsize=(7.5, 3))\n",
    "plt.plot(xvals, diff)\n",
    "plt.ylabel(\"$\\Phi_B - \\Phi_{B'}$\")\n",
    "plt.xlabel('Invariant number')\n",
    "plt.xlim([0, 116])\n",
    "plt.savefig('pozdnyakov_diff.pdf', dpi=300, bbox_inches='tight')\n",
    "plt.show()"
   ]
  },
  {
   "cell_type": "markdown",
   "id": "98135468",
   "metadata": {},
   "source": [
    "print(f'{(sum(~np.isclose(diff, 0)))} / {sum(inv.degree == 4 for inv in complex_invariants)} ')"
   ]
  },
  {
   "cell_type": "markdown",
   "id": "06303247",
   "metadata": {},
   "source": [
    "We see that 21 out of 29 of the invariants are non-zero when comparing the fingerprints of the two structures."
   ]
  },
  {
   "cell_type": "code",
   "execution_count": null,
   "id": "8f05f78d",
   "metadata": {},
   "outputs": [],
   "source": []
  }
 ],
 "metadata": {
  "@webio": {
   "lastCommId": null,
   "lastKernelId": null
  },
  "kernelspec": {
   "display_name": "Python 3",
   "language": "python",
   "name": "python3"
  },
  "language_info": {
   "codemirror_mode": {
    "name": "ipython",
    "version": 3
   },
   "file_extension": ".py",
   "mimetype": "text/x-python",
   "name": "python",
   "nbconvert_exporter": "python",
   "pygments_lexer": "ipython3",
   "version": "3.8.5"
  }
 },
 "nbformat": 4,
 "nbformat_minor": 5
}
