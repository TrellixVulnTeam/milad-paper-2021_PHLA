{
 "cells": [
  {
   "cell_type": "code",
   "execution_count": 26,
   "id": "96c3d7d2",
   "metadata": {},
   "outputs": [],
   "source": [
    "import collections\n",
    "import random\n",
    "import json\n",
    "\n",
    "import numpy as np\n",
    "import pandas\n",
    "import pymatgen.io.ase\n",
    "from pymatgen import symmetry\n",
    "\n",
    "import milad\n",
    "from milad.play import asetools\n",
    "from milad import invariants\n",
    "from milad import reconstruct\n",
    "from milad import zernike\n",
    "\n",
    "import qm9_utils"
   ]
  },
  {
   "cell_type": "code",
   "execution_count": 2,
   "id": "c74b0f31",
   "metadata": {},
   "outputs": [
    {
     "data": {
      "text/plain": [
       "133885"
      ]
     },
     "execution_count": 2,
     "metadata": {},
     "output_type": "execute_result"
    }
   ],
   "source": [
    "from schnetpack import datasets\n",
    "\n",
    "qm9data = datasets.QM9('data/qm9.db', download=True)\n",
    "len(qm9data)"
   ]
  },
  {
   "cell_type": "code",
   "execution_count": 3,
   "id": "e251c1ef",
   "metadata": {},
   "outputs": [],
   "source": [
    "with open('data/qm9_subset.json', 'r') as subset:\n",
    "    test_set = json.load(subset)\n",
    "test_set = {int(key): value for key, value in test_set.items()}"
   ]
  },
  {
   "cell_type": "code",
   "execution_count": 58,
   "id": "620c9c74",
   "metadata": {},
   "outputs": [],
   "source": [
    "def get_point_groups(\n",
    "    qm9data, \n",
    "    test_set,\n",
    "    ignore_species=False\n",
    "):\n",
    "    results = collections.defaultdict(dict)\n",
    "    adapter = pymatgen.io.ase.AseAtomsAdaptor()\n",
    "    \n",
    "    for size, ids in test_set.items():\n",
    "        for qm9id in ids:\n",
    "            molecule = qm9data.get_atoms(idx=qm9id)\n",
    "            if ignore_species:\n",
    "                molecule.numbers[:] = 1.\n",
    "\n",
    "            asetools.prepare_molecule(molecule)\n",
    "\n",
    "            mol = adapter.get_molecule(molecule)\n",
    "            mol.get_centered_molecule = lambda: mol\n",
    "            \n",
    "            analyser = symmetry.analyzer.PointGroupAnalyzer(mol)\n",
    "            pg = analyser.get_pointgroup()\n",
    "\n",
    "            results[size][qm9id] = pg\n",
    "    \n",
    "    return results"
   ]
  },
  {
   "cell_type": "code",
   "execution_count": 59,
   "id": "979b3447",
   "metadata": {},
   "outputs": [
    {
     "data": {
      "text/plain": [
       "defaultdict(dict,\n",
       "            {5: {0: Td, 23: C*v, 26: Cs},\n",
       "             4: {1: C3v, 3: D*h, 5: C2v},\n",
       "             3: {2: C2v, 4: C*v},\n",
       "             8: {6: D3d, 19: C2, 31: C1},\n",
       "             6: {7: Cs, 9: C3v, 11: Cs},\n",
       "             7: {8: C3v, 10: Cs, 16: C2v},\n",
       "             11: {12: C2v, 44: Cs, 64: C1},\n",
       "             9: {13: Cs, 14: C2v, 15: D3h},\n",
       "             10: {17: C2v, 28: D3h, 29: Cs},\n",
       "             14: {20: C3v, 38: C2h, 101: C1},\n",
       "             12: {21: C1, 39: Cs, 40: Cs},\n",
       "             17: {53: Td, 82: C1, 132: C2v},\n",
       "             15: {54: Cs, 80: C1, 83: C1},\n",
       "             13: {62: Cs, 67: Cs, 71: Cs},\n",
       "             16: {218: C3v, 223: Cs, 226: Cs},\n",
       "             18: {225: Cs, 228: C1, 229: Cs},\n",
       "             20: {227: Cs, 273: C1, 290: C2h},\n",
       "             19: {1081: C3v, 1083: Cs, 1087: C1},\n",
       "             21: {1091: Cs, 1094: C1, 1095: Cs},\n",
       "             23: {1093: Cs, 1103: Cs, 1129: C2},\n",
       "             22: {5796: Cs, 5809: C1, 5812: C2h},\n",
       "             26: {5805: C1, 5810: D3, 5850: C1},\n",
       "             24: {5806: C1, 5807: Cs, 5808: C1},\n",
       "             25: {36927: C1, 36945: C2, 36959: C2},\n",
       "             27: {42138: D3, 57349: Cs, 57419: C1},\n",
       "             29: {57517: C2, 58098: C2, 58182: C1}})"
      ]
     },
     "execution_count": 59,
     "metadata": {},
     "output_type": "execute_result"
    }
   ],
   "source": [
    "get_point_groups(qm9data, test_set, ignore_species=False)"
   ]
  },
  {
   "cell_type": "code",
   "execution_count": 42,
   "id": "479fab39",
   "metadata": {},
   "outputs": [],
   "source": [
    "def order_by_pointgroup(results: dict):\n",
    "    # Expecting results to be a dict of [size, dict] where the second dict\n",
    "    # contains [id, pointgroup] pairs\n",
    "    ordered = collections.defaultdict(list)\n",
    "    for size, entry in results.items():\n",
    "        for qm9id, pg in entry.items():\n",
    "            ordered[str(pg)].append(qm9id)\n",
    "    return ordered"
   ]
  },
  {
   "cell_type": "code",
   "execution_count": 45,
   "id": "998fa59e",
   "metadata": {},
   "outputs": [
    {
     "data": {
      "text/plain": [
       "defaultdict(list,\n",
       "            {'Td': [0, 53],\n",
       "             'C*v': [23, 4],\n",
       "             'Cs': [26,\n",
       "              7,\n",
       "              11,\n",
       "              10,\n",
       "              44,\n",
       "              13,\n",
       "              29,\n",
       "              39,\n",
       "              40,\n",
       "              54,\n",
       "              62,\n",
       "              67,\n",
       "              71,\n",
       "              223,\n",
       "              226,\n",
       "              225,\n",
       "              229,\n",
       "              227,\n",
       "              1083,\n",
       "              1091,\n",
       "              1095,\n",
       "              1093,\n",
       "              1103,\n",
       "              5796,\n",
       "              5807,\n",
       "              57349],\n",
       "             'C3v': [1, 9, 8, 20, 218, 1081],\n",
       "             'D*h': [3],\n",
       "             'C2v': [5, 2, 16, 12, 14, 17, 132],\n",
       "             'D3d': [6],\n",
       "             'C2': [19, 1129, 36945, 36959, 57517, 58098],\n",
       "             'C1': [31,\n",
       "              64,\n",
       "              101,\n",
       "              21,\n",
       "              82,\n",
       "              80,\n",
       "              83,\n",
       "              228,\n",
       "              273,\n",
       "              1087,\n",
       "              1094,\n",
       "              5809,\n",
       "              5805,\n",
       "              5850,\n",
       "              5806,\n",
       "              5808,\n",
       "              36927,\n",
       "              57419,\n",
       "              58182],\n",
       "             'D3h': [15, 28],\n",
       "             'C2h': [38, 290, 5812],\n",
       "             'D3': [5810, 42138]})"
      ]
     },
     "execution_count": 45,
     "metadata": {},
     "output_type": "execute_result"
    }
   ],
   "source": [
    "order_by_pointgroup(res)"
   ]
  },
  {
   "cell_type": "code",
   "execution_count": 60,
   "id": "d372564d",
   "metadata": {},
   "outputs": [
    {
     "data": {
      "text/plain": [
       "defaultdict(dict,\n",
       "            {5: {0: Td, 23: C*v, 26: Cs},\n",
       "             4: {1: C3v, 3: D*h, 5: C2v},\n",
       "             3: {2: C2v, 4: C*v},\n",
       "             8: {6: D3d, 19: C2, 31: C1},\n",
       "             6: {7: Cs, 9: C3v, 11: Cs},\n",
       "             7: {8: C3v, 10: Cs, 16: C2v},\n",
       "             11: {12: C2v, 44: Cs, 64: C1},\n",
       "             9: {13: Cs, 14: C2v, 15: D3h},\n",
       "             10: {17: C2v, 28: D3h, 29: Cs},\n",
       "             14: {20: C3v, 38: C2h, 101: C1},\n",
       "             12: {21: C1, 39: Cs, 40: Cs},\n",
       "             17: {53: Td, 82: C1, 132: C2v},\n",
       "             15: {54: Cs, 80: C1, 83: C1},\n",
       "             13: {62: Cs, 67: Cs, 71: Cs},\n",
       "             16: {218: C3v, 223: Cs, 226: Cs},\n",
       "             18: {225: Cs, 228: C1, 229: Cs},\n",
       "             20: {227: Cs, 273: C1, 290: C2h},\n",
       "             19: {1081: C3v, 1083: Cs, 1087: C1},\n",
       "             21: {1091: Cs, 1094: C1, 1095: Cs},\n",
       "             23: {1093: Cs, 1103: Cs, 1129: C2},\n",
       "             22: {5796: Cs, 5809: C1, 5812: C2h},\n",
       "             26: {5805: C1, 5810: D3, 5850: C1},\n",
       "             24: {5806: C1, 5807: Cs, 5808: C1},\n",
       "             25: {36927: C1, 36945: C2, 36959: C2},\n",
       "             27: {42138: D3, 57349: Cs, 57419: C1},\n",
       "             29: {57517: C2, 58098: C2, 58182: C1}})"
      ]
     },
     "execution_count": 60,
     "metadata": {},
     "output_type": "execute_result"
    }
   ],
   "source": [
    "get_point_groups(qm9data, test_set, ignore_species=False)"
   ]
  },
  {
   "cell_type": "code",
   "execution_count": 61,
   "id": "73d71eeb",
   "metadata": {},
   "outputs": [
    {
     "data": {
      "text/plain": [
       "defaultdict(dict,\n",
       "            {5: {0: Td, 23: D*h, 26: Cs},\n",
       "             4: {1: C3v, 3: D*h, 5: C2v},\n",
       "             3: {2: C2v, 4: D*h},\n",
       "             8: {6: D3d, 19: C2, 31: C1},\n",
       "             6: {7: Cs, 9: C3v, 11: C2h},\n",
       "             7: {8: C3v, 10: Cs, 16: C2v},\n",
       "             11: {12: C2v, 44: Cs, 64: C1},\n",
       "             9: {13: Cs, 14: C2v, 15: D3h},\n",
       "             10: {17: C2v, 28: D3h, 29: Cs},\n",
       "             14: {20: C3v, 38: C2h, 101: C1},\n",
       "             12: {21: C1, 39: Cs, 40: Cs},\n",
       "             17: {53: Td, 82: C1, 132: C2v},\n",
       "             15: {54: Cs, 80: C1, 83: C1},\n",
       "             13: {62: Cs, 67: Cs, 71: Cs},\n",
       "             16: {218: C3v, 223: Cs, 226: Cs},\n",
       "             18: {225: Cs, 228: C1, 229: Cs},\n",
       "             20: {227: Cs, 273: C1, 290: C2h},\n",
       "             19: {1081: C3v, 1083: Cs, 1087: C1},\n",
       "             21: {1091: Cs, 1094: C1, 1095: Cs},\n",
       "             23: {1093: Cs, 1103: Cs, 1129: C2},\n",
       "             22: {5796: Cs, 5809: C1, 5812: C2h},\n",
       "             26: {5805: C1, 5810: D3, 5850: C1},\n",
       "             24: {5806: C1, 5807: Cs, 5808: C1},\n",
       "             25: {36927: C1, 36945: C2, 36959: C2},\n",
       "             27: {42138: D3, 57349: Cs, 57419: C1},\n",
       "             29: {57517: C2, 58098: C2, 58182: C1}})"
      ]
     },
     "execution_count": 61,
     "metadata": {},
     "output_type": "execute_result"
    }
   ],
   "source": [
    "get_point_groups(qm9data, test_set, ignore_species=True)"
   ]
  },
  {
   "cell_type": "code",
   "execution_count": null,
   "id": "6e01f2c3",
   "metadata": {},
   "outputs": [],
   "source": []
  }
 ],
 "metadata": {
  "kernelspec": {
   "display_name": "Python 3",
   "language": "python",
   "name": "python3"
  },
  "language_info": {
   "codemirror_mode": {
    "name": "ipython",
    "version": 3
   },
   "file_extension": ".py",
   "mimetype": "text/x-python",
   "name": "python",
   "nbconvert_exporter": "python",
   "pygments_lexer": "ipython3",
   "version": "3.8.5"
  }
 },
 "nbformat": 4,
 "nbformat_minor": 5
}
