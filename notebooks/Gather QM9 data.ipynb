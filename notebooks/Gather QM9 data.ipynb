{
 "cells": [
  {
   "cell_type": "markdown",
   "metadata": {},
   "source": [
    "## Gather QM9 Data\n",
    "\n",
    "This notebook is here just to extract a set of structures from the QM9 dataset that we want to use for our analysis."
   ]
  },
  {
   "cell_type": "code",
   "execution_count": 1,
   "metadata": {},
   "outputs": [
    {
     "data": {
      "text/plain": [
       "133885"
      ]
     },
     "execution_count": 1,
     "metadata": {},
     "output_type": "execute_result"
    }
   ],
   "source": [
    "import collections\n",
    "import json\n",
    "from schnetpack import datasets\n",
    "\n",
    "qm9data = datasets.QM9('data/qm9.db', download=True)\n",
    "len(qm9data)"
   ]
  },
  {
   "cell_type": "markdown",
   "metadata": {},
   "source": [
    "Let's define parameters of the structures we want to extract"
   ]
  },
  {
   "cell_type": "code",
   "execution_count": 2,
   "metadata": {},
   "outputs": [],
   "source": [
    "num_of_each_size = 3\n",
    "max_size = 1000 # Maximum number of atoms (including hydrogen) we want to consider"
   ]
  },
  {
   "cell_type": "markdown",
   "metadata": {},
   "source": [
    "Now let's go through the QM9 and pick out structure we want to use for testing"
   ]
  },
  {
   "cell_type": "code",
   "execution_count": 3,
   "metadata": {},
   "outputs": [
    {
     "name": "stdout",
     "output_type": "stream",
     "text": [
      "5 :  3\n",
      "4 :  3\n",
      "3 :  2\n",
      "8 :  3\n",
      "6 :  3\n",
      "7 :  3\n",
      "11 :  3\n",
      "9 :  3\n",
      "10 :  3\n",
      "14 :  3\n",
      "12 :  3\n",
      "17 :  3\n",
      "15 :  3\n",
      "13 :  3\n",
      "16 :  3\n",
      "18 :  3\n",
      "20 :  3\n",
      "19 :  3\n",
      "21 :  3\n",
      "23 :  3\n",
      "22 :  3\n",
      "26 :  3\n",
      "24 :  3\n",
      "25 :  3\n",
      "27 :  3\n",
      "29 :  3\n"
     ]
    }
   ],
   "source": [
    "test_set = collections.defaultdict(list)\n",
    "\n",
    "for idx in range(len(qm9data)):\n",
    "    system = qm9data.get_atoms(idx=idx)\n",
    "    if len(system) > max_size:\n",
    "        continue\n",
    "    \n",
    "    indices = test_set[len(system)]\n",
    "    if len(indices) < num_of_each_size:\n",
    "        indices.append(idx)\n",
    "        \n",
    "for size, values in test_set.items():\n",
    "    print(size, \": \", len(values))"
   ]
  },
  {
   "cell_type": "markdown",
   "metadata": {},
   "source": [
    "Now let's just save the dictionary so it can be used in our experiments"
   ]
  },
  {
   "cell_type": "code",
   "execution_count": 4,
   "metadata": {},
   "outputs": [],
   "source": [
    "with open('data/qm9_subset.json', 'w') as subset:\n",
    "    json.dump(test_set, subset)"
   ]
  }
 ],
 "metadata": {
  "@webio": {
   "lastCommId": null,
   "lastKernelId": null
  },
  "kernelspec": {
   "display_name": "Python 3",
   "language": "python",
   "name": "python3"
  },
  "language_info": {
   "codemirror_mode": {
    "name": "ipython",
    "version": 3
   },
   "file_extension": ".py",
   "mimetype": "text/x-python",
   "name": "python",
   "nbconvert_exporter": "python",
   "pygments_lexer": "ipython3",
   "version": "3.8.5"
  }
 },
 "nbformat": 4,
 "nbformat_minor": 4
}