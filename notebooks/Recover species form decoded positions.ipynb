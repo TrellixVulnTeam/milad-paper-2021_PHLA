{
 "cells": [
  {
   "cell_type": "markdown",
   "metadata": {},
   "source": [
    "## Recovery of species from decoded positions"
   ]
  },
  {
   "cell_type": "code",
   "execution_count": 1,
   "metadata": {},
   "outputs": [],
   "source": [
    "import random\n",
    "import json\n",
    "\n",
    "from ase import visualize\n",
    "import numpy as np\n",
    "import pandas\n",
    "\n",
    "import milad\n",
    "from milad import generate\n",
    "from milad.play import asetools\n",
    "from milad import invariants\n",
    "\n",
    "import qm9_utils"
   ]
  },
  {
   "cell_type": "code",
   "execution_count": 2,
   "metadata": {},
   "outputs": [],
   "source": [
    "# Set the seeds for some kind of reproducibility\n",
    "random.seed(1234)\n",
    "np.random.seed(1234)"
   ]
  },
  {
   "cell_type": "code",
   "execution_count": 3,
   "metadata": {},
   "outputs": [
    {
     "data": {
      "text/plain": [
       "133885"
      ]
     },
     "execution_count": 3,
     "metadata": {},
     "output_type": "execute_result"
    }
   ],
   "source": [
    "from schnetpack import datasets\n",
    "\n",
    "qm9data = datasets.QM9('data/qm9.db', download=True)\n",
    "len(qm9data)"
   ]
  },
  {
   "cell_type": "markdown",
   "metadata": {},
   "source": [
    "The settings for our reconstruction"
   ]
  },
  {
   "cell_type": "code",
   "execution_count": 4,
   "metadata": {},
   "outputs": [],
   "source": [
    "# Number of attempts to reconstruct per structure\n",
    "num_attempts = 3\n",
    "# The multiple of the maximum radius to make the cutoff\n",
    "cutoff = 5\n",
    "# Optimiser to use\n",
    "optimiser = milad.optimisers.StructureOptimiser() \n",
    "# Invariants to use\n",
    "invs = invariants.read(invariants.COMPLEX_INVARIANTS) "
   ]
  },
  {
   "cell_type": "markdown",
   "metadata": {},
   "source": [
    "Let's load the subset of indices from the QM9 database we want to use"
   ]
  },
  {
   "cell_type": "code",
   "execution_count": 5,
   "metadata": {},
   "outputs": [],
   "source": [
    "with open('data/qm9_subset.json', 'r') as subset:\n",
    "    test_set = json.load(subset)\n",
    "test_set = {int(key): value for key, value in test_set.items()}"
   ]
  },
  {
   "cell_type": "code",
   "execution_count": 6,
   "metadata": {},
   "outputs": [],
   "source": [
    "def random_atom_collection(num_atoms: int, radius: float, numbers=None):\n",
    "    atoms = milad.atomic.AtomsCollection(\n",
    "        num_atoms,\n",
    "        positions=generate.random_points_in_sphere(num_atoms, radius, centre=True))\n",
    "    if numbers is not None:\n",
    "        atoms.numbers = numbers\n",
    "    \n",
    "    return atoms"
   ]
  },
  {
   "cell_type": "code",
   "execution_count": 7,
   "metadata": {},
   "outputs": [],
   "source": [
    "columns=('QM9 ID', 'Size', 'Attempt #', 'RMSD', 'Result')\n",
    "\n",
    "# Load results from reconstruction of positions only\n",
    "no_species = pandas.read_pickle('structure_recovery_iterative_no_species.pickle')"
   ]
  },
  {
   "cell_type": "code",
   "execution_count": 8,
   "metadata": {},
   "outputs": [
    {
     "data": {
      "text/plain": [
       "StructureOptimisationResult(success=True, message='`gtol` termination condition is satisfied.', value=<milad.atomic.AtomsCollection object at 0x7fbcf4ab5a40>, rmsd=3.0097241787904286e-10, n_func_eval=54, n_jac_eval=48, traj=None)"
      ]
     },
     "execution_count": 8,
     "metadata": {},
     "output_type": "execute_result"
    }
   ],
   "source": [
    "subframe = no_species.loc[(no_species['QM9 ID'] == 2)]\n",
    "subframe.loc[subframe['RMSD'] == subframe['RMSD'].min()].iloc[0]['Result']"
   ]
  },
  {
   "cell_type": "code",
   "execution_count": 9,
   "metadata": {
    "pycharm": {
     "name": "#%%\n"
    }
   },
   "outputs": [],
   "source": [
    "def do_reconstruction(qm9data, test_set, result_set, num_attempts, cutoff: float):\n",
    "    results = []\n",
    "    \n",
    "    # Let's create the descriptor we're going to use\n",
    "    descriptor = qm9_utils.create_descriptor(invs, cutoff=cutoff, apply_cutoff=False)\n",
    "\n",
    "    for size, indices in sorted(test_set.items()):\n",
    "        size = int(size)\n",
    "        print(f\"Size {size}:\")\n",
    "        for idx in indices:\n",
    "            print(f\"Idx={idx}:\", end='')\n",
    "\n",
    "            # Get the system\n",
    "            system = qm9data.get_atoms(idx=idx)\n",
    "            max_radius = asetools.prepare_molecule(system) # Centre the molecule and find the max radius.\n",
    "            assert max_radius < cutoff\n",
    "\n",
    "            # Prepare the milad data type\n",
    "            milad_molecule = asetools.ase2milad(system)\n",
    "            num_atoms = milad_molecule.num_atoms\n",
    "            \n",
    "            fingerprint = descriptor(milad_molecule)\n",
    "            \n",
    "            # Get the result with the lowest RMSD\n",
    "            subframe = result_set.loc[(result_set['QM9 ID'] == idx)]\n",
    "#             result = subframe.loc[subframe['RMSD'] == subframe['RMSD'].min()].iloc[0]['Result']\n",
    "#             reconstructed = result.value\n",
    "            \n",
    "            num_attempts = len(subframe)\n",
    "\n",
    "            for attempt in range(num_attempts):\n",
    "                print(f\"...\", end='')\n",
    "                \n",
    "                result = subframe.loc[subframe['Attempt #'] == attempt].iloc[0]['Result']\n",
    "                reconstructed = result.value\n",
    "                initial = reconstructed\n",
    "\n",
    "                # Fix the positions, we only want to get the species\n",
    "                mask = reconstructed.get_mask()\n",
    "                mask.positions = reconstructed.positions\n",
    "\n",
    "                result = optimiser.optimise(\n",
    "                    descriptor=descriptor,\n",
    "                    # Target the original fingerprint\n",
    "                    target=fingerprint,\n",
    "                    initial=initial,\n",
    "                    mask=mask,\n",
    "                )\n",
    "                \n",
    "                mask = result.value.get_mask()\n",
    "                mask.numbers = result.value.numbers\n",
    "                \n",
    "                result = optimiser.optimise(\n",
    "                    descriptor=descriptor,\n",
    "                    # Target the original fingerprint\n",
    "                    target=fingerprint,\n",
    "                    initial=result.value,\n",
    "                    mask=mask,\n",
    "                )\n",
    "                \n",
    "                print(f'{result.rmsd:5.5}', end='')\n",
    "                results.append((idx, size, attempt, result.rmsd, result))\n",
    "\n",
    "            print()\n",
    "        \n",
    "    return results"
   ]
  },
  {
   "cell_type": "code",
   "execution_count": 10,
   "metadata": {
    "scrolled": false
   },
   "outputs": [
    {
     "name": "stdout",
     "output_type": "stream",
     "text": [
      "Size 3:\n",
      "Idx=2:...3.7185e-10...2.4183e-10...1.1963e-09\n",
      "Idx=4:...9.4263e-10...6.3768e-10...7.0026e-10\n",
      "Size 4:\n",
      "Idx=1:...1.0015e-09...1.5294e-09...1.7431e-09\n",
      "Idx=3:...1.069e-09...3.2806e-09...1.5106e-09\n",
      "Idx=5:...0.00053155...0.00053155...0.00053155\n",
      "Size 5:\n",
      "Idx=0:...5.1461e-10...1.4424e-09...1.6949e-09\n",
      "Idx=23:...2.1787e-10...2.5019e-10...6.4246e-10\n",
      "Idx=26:...3.1493e-11...1.1068e-10...1.2488e-10\n",
      "Size 6:\n",
      "Idx=7:...1.4459e-09...3.3543e-09...6.1241e-09\n",
      "Idx=9:...1.5327e-09...1.074e-09...1.0124e-09\n",
      "Idx=11:...1.5868e-08...0.00034236...6.8772e-10\n",
      "Size 7:\n",
      "Idx=8:...3.6816e-10...4.3432e-10...4.1785e-10\n",
      "Idx=10:...6.831e-10...1.372e-09...7.6467e-10\n",
      "Idx=16:...2.6496e-10...7.7901e-10...7.4204e-10\n",
      "Size 8:\n",
      "Idx=6:...6.8154e-10...2.3183e-10...4.5636e-10\n",
      "Idx=19:...1.9786e-09...3.1215e-09...3.9771e-09\n",
      "Idx=31:...2.6181e-15...5.8936e-11...7.8847e-16\n",
      "Size 9:\n",
      "Idx=13:...3.7577e-10...1.7976e-09...4.7625e-10\n",
      "Idx=14:...1.8923e-10...8.6453e-10...3.1239e-10\n",
      "Idx=15:...1.3037e-09...4.6281e-10...2.0626e-09\n",
      "Size 10:\n",
      "Idx=17:...1.1505e-09...7.3685e-10...5.5272e-10\n",
      "Idx=28:...2.0981e-10...5.0517e-10...2.3101e-10\n",
      "Idx=29:...2.3577e-10...9.929e-10...2.9086e-10\n",
      "Size 11:\n",
      "Idx=12:...2.4434e-09...2.69e-09...1.0776e-09\n",
      "Idx=44:...3.949e-10...2.2751e-09...6.7672e-10\n",
      "Idx=64:...2.5855e-11...0.018737...0.028907\n",
      "Size 12:\n",
      "Idx=21:...3.4355e-11...7.9051e-13...5.4221e-12\n",
      "Idx=39:...9.4714e-10...5.1296e-10...3.2032e-09\n",
      "Idx=40:...5.3497e-09...1.6984e-09...2.97e-10\n",
      "Size 13:\n",
      "Idx=62:...1.0937e-09...8.3966e-10...3.7402e-10\n",
      "Idx=67:...5.8115e-10...1.1555e-09...2.0199e-09\n",
      "Idx=71:...9.7264e-13...1.8702e-13...2.402e-11\n",
      "Size 14:\n",
      "Idx=20:...3.1963e-09...7.667e-10...3.3945e-09\n",
      "Idx=38:...8.3324e-09...6.5113e-09...7.0175e-09\n",
      "Idx=101:...4.5024e-12...3.3977e-15...6.89e-12\n",
      "Size 15:\n",
      "Idx=54:...5.0603e-10...2.1246e-09...1.1877e-09\n",
      "Idx=80:...1.1358e-15...2.7511e-14...2.8065e-12\n",
      "Idx=83:...0.012603...0.0099808...7.7829e-15\n",
      "Size 16:\n",
      "Idx=218:...5.8499e-11...4.2201e-08...4.2213e-08\n",
      "Idx=223:...1.9314e-09...1.1346e-09...9.7591e-10\n",
      "Idx=226:...7.1355e-09...1.8226e-09...7.0695e-10\n",
      "Size 17:\n",
      "Idx=53:...2.1175e-09...2.5107e-09...2.2844e-09\n",
      "Idx=82:...0.0096413...3.1129e-13...0.0098683\n",
      "Idx=132:...2.9016e-10...2.0987e-08...2.1039e-08\n",
      "Size 18:\n",
      "Idx=225:...9.8637e-09...2.8696e-09...2.9795e-09\n",
      "Idx=228:...0.0088442...1.1529e-14...2.1147e-15\n",
      "Idx=229:...2.3616e-09...1.5571e-09...1.6477e-09\n",
      "Size 19:\n",
      "Idx=1081:...2.6898e-10...3.7201e-10...1.7372e-10\n",
      "Idx=1083:...1.0279e-09...0.99077...5.8837e-10\n",
      "Idx=1087:...1.5467e-11...4.8722e-12...8.2479e-13\n",
      "Size 20:\n",
      "Idx=227:...6.5265e-09...2.5501e-09...0.011276\n",
      "Idx=273:...0.046932...0.07049...7.6386e-15\n",
      "Idx=290:...1.0465e-09...1.1091e-09...2.0195e-09\n",
      "Size 21:\n",
      "Idx=1091:...2.5e-09...8.8353e-08...7.2496e-08\n",
      "Idx=1094:...0.00082155...0.068993...5.4523e-14\n",
      "Idx=1095:...2.9888e-10...0.19111...8.6228e-10\n",
      "Size 22:\n",
      "Idx=5796:...0.20982...0.20751...0.20029\n",
      "Idx=5809:...1.0672e-14...0.036353...0.031689\n",
      "Idx=5812:...3.4936e-09...6.8743e-10...2.4878e-09\n",
      "Size 23:\n",
      "Idx=1093:...0.17644...3.0328e-09...0.17688\n",
      "Idx=1103:...1.1067e-09...1.8092e-09...7.4651e-08\n",
      "Idx=1129:...6.8859e-09...8.3485e-09...3.8068e-09\n",
      "Size 24:\n",
      "Idx=5806:...1.0722e-12...7.4385e-15...1.4864e-14\n",
      "Idx=5807:...6.1033e-08...1.3589e-11...1.2759e-10\n",
      "Idx=5808:...0.017109...0.017378...9.6604e-15\n",
      "Size 25:\n",
      "Idx=36927:...0.0076806...0.020861...1.0002e-11\n",
      "Idx=36945:...3.477e-10...2.5188e-10...3.358e-10\n",
      "Idx=36959:...3.9773e-05...0.00020278...0.023731\n",
      "Size 26:\n",
      "Idx=5805:...1.2266e-11...0.010642...1.6529e-14\n",
      "Idx=5810:...4.4656e-08...3.479e-08...2.1025e-08\n",
      "Idx=5850:...0.094482...0.039326...0.046876\n",
      "Size 27:\n",
      "Idx=42138:...2.2587e-07...2.1926e-07...2.192e-07\n",
      "Idx=57349:...0.044293...0.034692...2.6966e-08\n",
      "Idx=57419:...0.0291...0.0069364...9.097e-15\n",
      "Size 29:\n",
      "Idx=57517:...1.3027e-09...8.252e-10...1.9804e-09\n",
      "Idx=58098:...1.5213e-08...1.4047e-08...1.0767e-08\n",
      "Idx=58182:...3.355e-12...2.3273e-14...0.020856\n"
     ]
    }
   ],
   "source": [
    "results = do_reconstruction(\n",
    "    qm9data, \n",
    "    test_set,\n",
    "    no_species,\n",
    "    num_attempts, \n",
    "    cutoff=cutoff,\n",
    ")\n",
    "no_species_frame = pandas.DataFrame(results, columns=columns)"
   ]
  },
  {
   "cell_type": "code",
   "execution_count": 11,
   "metadata": {},
   "outputs": [],
   "source": [
    "no_species_frame.to_pickle('data/species_recovery_from_decoded_positions.pickle')"
   ]
  },
  {
   "cell_type": "code",
   "execution_count": 12,
   "metadata": {},
   "outputs": [
    {
     "name": "stdout",
     "output_type": "stream",
     "text": [
      "[1. 1. 1.]\n"
     ]
    }
   ],
   "source": [
    "idx=4\n",
    "attempt=0\n",
    "subframe = no_species.loc[(no_species['QM9 ID'] == idx)]\n",
    "result = subframe.loc[subframe['Attempt #'] == attempt].iloc[0]['Result']\n",
    "print(result.value.numbers)\n",
    "visualize.view(asetools.milad2ase(result.value))"
   ]
  },
  {
   "cell_type": "code",
   "execution_count": 13,
   "metadata": {},
   "outputs": [],
   "source": [
    "system = qm9data.get_atoms(idx=idx)\n",
    "visualize.view(system)"
   ]
  },
  {
   "cell_type": "code",
   "execution_count": 14,
   "metadata": {},
   "outputs": [],
   "source": [
    "subframe = no_species_frame.loc[(no_species_frame['QM9 ID'] == idx) & (no_species_frame['Attempt #'] == attempt)]\n",
    "result = subframe.iloc[0]['Result']\n",
    "visualize.view(asetools.milad2ase(result.value))"
   ]
  },
  {
   "cell_type": "code",
   "execution_count": 15,
   "metadata": {},
   "outputs": [
    {
     "data": {
      "text/plain": [
       "array([6., 7., 1.])"
      ]
     },
     "execution_count": 15,
     "metadata": {},
     "output_type": "execute_result"
    }
   ],
   "source": [
    "result.value.numbers"
   ]
  },
  {
   "cell_type": "code",
   "execution_count": null,
   "metadata": {},
   "outputs": [],
   "source": []
  }
 ],
 "metadata": {
  "@webio": {
   "lastCommId": null,
   "lastKernelId": null
  },
  "kernelspec": {
   "display_name": "Python 3",
   "language": "python",
   "name": "python3"
  },
  "language_info": {
   "codemirror_mode": {
    "name": "ipython",
    "version": 3
   },
   "file_extension": ".py",
   "mimetype": "text/x-python",
   "name": "python",
   "nbconvert_exporter": "python",
   "pygments_lexer": "ipython3",
   "version": "3.8.5"
  }
 },
 "nbformat": 4,
 "nbformat_minor": 1
}