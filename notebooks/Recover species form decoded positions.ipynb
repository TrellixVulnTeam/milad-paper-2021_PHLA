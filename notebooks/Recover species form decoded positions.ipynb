{
 "cells": [
  {
   "cell_type": "markdown",
   "metadata": {},
   "source": [
    "## Recovery of species from decoded positions"
   ]
  },
  {
   "cell_type": "code",
   "execution_count": 1,
   "metadata": {},
   "outputs": [],
   "source": [
    "import random\n",
    "import json\n",
    "\n",
    "from ase import visualize\n",
    "import numpy as np\n",
    "import pandas\n",
    "\n",
    "import milad\n",
    "from milad import atomic\n",
    "from milad import generate\n",
    "from milad.play import asetools\n",
    "from milad import invariants\n",
    "\n",
    "import qm9_utils"
   ]
  },
  {
   "cell_type": "code",
   "execution_count": 2,
   "metadata": {},
   "outputs": [],
   "source": [
    "# Set the seeds for some kind of reproducibility\n",
    "random.seed(1234)\n",
    "np.random.seed(1234)"
   ]
  },
  {
   "cell_type": "code",
   "execution_count": 3,
   "metadata": {},
   "outputs": [
    {
     "data": {
      "text/plain": [
       "133885"
      ]
     },
     "execution_count": 3,
     "metadata": {},
     "output_type": "execute_result"
    }
   ],
   "source": [
    "from schnetpack import datasets\n",
    "\n",
    "qm9data = datasets.QM9('data/qm9.db', download=True)\n",
    "len(qm9data)"
   ]
  },
  {
   "cell_type": "markdown",
   "metadata": {},
   "source": [
    "The settings for our reconstruction"
   ]
  },
  {
   "cell_type": "code",
   "execution_count": 5,
   "metadata": {},
   "outputs": [],
   "source": [
    "# Number of attempts to reconstruct per structure\n",
    "num_attempts = 3\n",
    "# The multiple of the maximum radius to make the cutoff\n",
    "cutoff = 5\n",
    "# Optimiser to use\n",
    "optimiser = milad.optimisers.StructureOptimiser() \n",
    "# Keep atoms from coming too close\n",
    "optimiser.separation_force = atomic.SeparationForce(epsilon=1e-1, cutoff=0.55, power=2)\n",
    "# Invariants to use\n",
    "invs = invariants.read(invariants.COMPLEX_INVARIANTS) "
   ]
  },
  {
   "cell_type": "markdown",
   "metadata": {},
   "source": [
    "Let's load the subset of indices from the QM9 database we want to use"
   ]
  },
  {
   "cell_type": "code",
   "execution_count": 6,
   "metadata": {},
   "outputs": [],
   "source": [
    "with open('data/qm9_subset.json', 'r') as subset:\n",
    "    test_set = json.load(subset)\n",
    "test_set = {int(key): value for key, value in test_set.items()}"
   ]
  },
  {
   "cell_type": "code",
   "execution_count": 7,
   "metadata": {},
   "outputs": [],
   "source": [
    "def random_atom_collection(num_atoms: int, radius: float, numbers=None):\n",
    "    atoms = milad.atomic.AtomsCollection(\n",
    "        num_atoms,\n",
    "        positions=generate.random_points_in_sphere(num_atoms, radius, centre=True))\n",
    "    if numbers is not None:\n",
    "        atoms.numbers = numbers\n",
    "    \n",
    "    return atoms"
   ]
  },
  {
   "cell_type": "code",
   "execution_count": 8,
   "metadata": {},
   "outputs": [],
   "source": [
    "columns=('QM9 ID', 'Size', 'Attempt #', 'RMSD', 'Result')\n",
    "\n",
    "# Load results from reconstruction of positions only\n",
    "no_species = pandas.read_pickle('structure_recovery_iterative_no_species.pickle')"
   ]
  },
  {
   "cell_type": "code",
   "execution_count": 9,
   "metadata": {},
   "outputs": [
    {
     "data": {
      "text/plain": [
       "StructureOptimisationResult(success=True, message='`gtol` termination condition is satisfied.', value=<milad.atomic.AtomsCollection object at 0x7f5fcea29140>, rmsd=7.474060375117366e-12, n_func_eval=95, n_jac_eval=82, traj=None)"
      ]
     },
     "execution_count": 9,
     "metadata": {},
     "output_type": "execute_result"
    }
   ],
   "source": [
    "subframe = no_species.loc[(no_species['QM9 ID'] == 2)]\n",
    "subframe.loc[subframe['RMSD'] == subframe['RMSD'].min()].iloc[0]['Result']"
   ]
  },
  {
   "cell_type": "code",
   "execution_count": 10,
   "metadata": {
    "pycharm": {
     "name": "#%%\n"
    }
   },
   "outputs": [],
   "source": [
    "def do_reconstruction(qm9data, test_set, result_set, num_attempts, cutoff: float):\n",
    "    results = []\n",
    "    \n",
    "    # Let's create the descriptor we're going to use\n",
    "    descriptor = qm9_utils.create_descriptor(invs, cutoff=cutoff, apply_cutoff=False)\n",
    "\n",
    "\n",
    "    for size, indices in sorted(test_set.items()):\n",
    "        size = int(size)\n",
    "        print(f\"Size {size}:\")\n",
    "        for idx in indices:\n",
    "            print(f\"Idx={idx}:\", end='')\n",
    "\n",
    "            # Get the system\n",
    "            system = qm9data.get_atoms(idx=idx)\n",
    "            max_radius = asetools.prepare_molecule(system) # Centre the molecule and find the max radius.\n",
    "            assert max_radius < cutoff\n",
    "\n",
    "            # Prepare the milad data type\n",
    "            milad_molecule = asetools.ase2milad(system)\n",
    "            num_atoms = milad_molecule.num_atoms\n",
    "            \n",
    "            fingerprint = descriptor(milad_molecule)\n",
    "            \n",
    "            # Get the result with the lowest RMSD\n",
    "            subframe = result_set.loc[(result_set['QM9 ID'] == idx)]\n",
    "#             result = subframe.loc[subframe['RMSD'] == subframe['RMSD'].min()].iloc[0]['Result']\n",
    "#             reconstructed = result.value\n",
    "            \n",
    "            num_attempts = len(subframe)\n",
    "\n",
    "            for attempt in range(num_attempts):\n",
    "                print(f\"...\", end='')\n",
    "                \n",
    "                result = subframe.loc[subframe['Attempt #'] == attempt].iloc[0]['Result']\n",
    "                reconstructed = result.value\n",
    "                initial = reconstructed\n",
    "\n",
    "                # Fix the positions, we only want to get the species\n",
    "                mask = reconstructed.get_mask()\n",
    "                mask.positions = reconstructed.positions\n",
    "\n",
    "                result = optimiser.optimise(\n",
    "                    descriptor=descriptor,\n",
    "                    # Target the original fingerprint\n",
    "                    target=fingerprint,\n",
    "                    initial=initial,\n",
    "                    mask=mask,\n",
    "                )\n",
    "                \n",
    "                mask = result.value.get_mask()\n",
    "                mask.numbers = result.value.numbers\n",
    "                \n",
    "                result = optimiser.optimise(\n",
    "                    descriptor=descriptor,\n",
    "                    # Target the original fingerprint\n",
    "                    target=fingerprint,\n",
    "                    initial=result.value,\n",
    "                    mask=mask,\n",
    "                )\n",
    "                \n",
    "                print(f'{result.rmsd:5.5}', end='')\n",
    "                results.append((idx, size, attempt, result.rmsd, result))\n",
    "\n",
    "            print()\n",
    "        \n",
    "    return results"
   ]
  },
  {
   "cell_type": "code",
   "execution_count": 11,
   "metadata": {
    "scrolled": true
   },
   "outputs": [
    {
     "name": "stdout",
     "output_type": "stream",
     "text": [
      "Size 3:\n",
      "Idx=2:...6.9365e-12...2.6566e-11...2.2313e-11\n",
      "Idx=4:...1.1914e-11...8.1818e-12...4.7391e-12\n",
      "Size 4:\n",
      "Idx=1:...6.0647e-12...6.2785e-11...1.7021e-11\n",
      "Idx=3:...2.1772e-11...2.7587e-11...1.6058e-11\n",
      "Idx=5:...0.029376...0.029376...0.029376\n",
      "Size 5:\n",
      "Idx=0:...7.1161e-12...7.4478e-12...1.8298e-11\n",
      "Idx=23:...1.8428e-12...2.6847e-12...1.3268e-12\n",
      "Idx=26:...6.222e-13...2.2192e-13...7.3494e-13\n",
      "Size 6:\n",
      "Idx=7:...3.4428e-13...1.2636e-12...4.6011e-13\n",
      "Idx=9:...1.0562e-12...9.3905e-13...1.941e-10\n",
      "Idx=11:...8.6076e-11...0.020546...0.020546\n",
      "Size 7:\n",
      "Idx=8:...2.8766e-10...2.8719e-10...8.2393e-13\n",
      "Idx=10:...2.1087e-08...7.7909e-16...3.9487e-15\n",
      "Idx=16:...4.2019e-12...7.92e-12...1.1279e-11\n",
      "Size 8:\n",
      "Idx=6:...1.7187e-11...4.1334e-11...1.6743e-11\n",
      "Idx=19:...3.677e-11...4.1313e-11...3.3473e-11\n",
      "Idx=31:...4.8836e-15...1.8565e-13...1.3666e-15\n",
      "Size 9:\n",
      "Idx=13:...1.1527e-10...5.981e-11...1.1548e-10\n",
      "Idx=14:...7.9692e-12...2.2354e-12...2.7546e-12\n",
      "Idx=15:...4.2583e-11...5.2244e-11...7.8627e-11\n",
      "Size 10:\n",
      "Idx=17:...1.478e-11...4.3587e-12...1.1311e-11\n",
      "Idx=28:...4.5155e-12...2.0322e-12...1.4647e-12\n",
      "Idx=29:...2.1507e-13...1.0407e-12...1.7842e-13\n",
      "Size 11:\n",
      "Idx=12:...7.7317e-12...1.446e-11...6.1324e-12\n",
      "Idx=44:...6.6315e-12...1.2707e-12...4.2776e-12\n",
      "Idx=64:...2.1845e-15...1.1741e-15...9.2204e-16\n",
      "Size 12:\n",
      "Idx=21:...1.4928e-14...6.1604e-15...1.2907e-15\n",
      "Idx=39:...3.635e-13...4.4003e-13...5.4326e-15\n",
      "Idx=40:...5.6137e-15...1.6398e-13...8.417e-15\n",
      "Size 13:\n",
      "Idx=62:...2.0959e-14...1.0585e-14...8.6008e-14\n",
      "Idx=67:...3.8741e-15...2.3111e-12...2.9324e-13\n",
      "Idx=71:...1.2013e-15...2.1372e-13...1.9057e-15\n",
      "Size 14:\n",
      "Idx=20:...1.6008e-11...1.2888e-11...1.5988e-11\n",
      "Idx=38:...6.3617e-09...8.5719e-09...6.3517e-09\n",
      "Idx=101:...6.0374e-13...1.0464e-12...2.6511e-14\n",
      "Size 15:\n",
      "Idx=54:...6.6122e-11...7.4387e-11...6.4757e-11\n",
      "Idx=80:...1.2982e-15...1.2819e-13...0.0099576\n",
      "Idx=83:...2.6203e-15...0.0012248...0.0012248\n",
      "Size 16:\n",
      "Idx=218:...2.5868e-11...4.2263e-08...7.9519e-09\n",
      "Idx=223:...1.2792e-11...3.4469e-11...1.7391e-11\n",
      "Idx=226:...5.9146e-09...2.1384e-13...5.2034e-09\n",
      "Size 17:\n",
      "Idx=53:...2.2662e-11...2.0427e-11...3.5053e-11\n",
      "Idx=82:...0.00063035...2.0231e-14...4.4303e-14\n",
      "Idx=132:...2.0983e-08...2.0982e-08...2.0968e-08\n",
      "Size 18:\n",
      "Idx=225:...4.1551e-12...1.1985e-13...1.7636e-11\n",
      "Idx=228:...3.9437e-15...0.035793...0.00043442\n",
      "Idx=229:...3.7379e-10...2.9627e-12...3.7905e-10\n",
      "Size 19:\n",
      "Idx=1081:...1.9522e-10...1.9713e-10...1.9411e-10\n",
      "Idx=1083:...9.2871e-15...9.8729e-13...0.97095\n",
      "Idx=1087:...2.9744e-15...0.022454...2.0984e-15\n",
      "Size 20:\n",
      "Idx=227:...7.6641e-13...1.3445e-09...2.6937e-09\n",
      "Idx=273:...0.065123...0.059026...0.065106\n",
      "Idx=290:...2.8973e-11...2.7248e-11...2.93e-11\n",
      "Size 21:\n",
      "Idx=1091:...5.0766e-15...6.5164e-08...1.465e-14\n",
      "Idx=1094:...6.7799e-15...7.0312e-14...7.004e-14\n",
      "Idx=1095:...2.7743e-11...3.4153e-10...6.1072e-11\n",
      "Size 22:\n",
      "Idx=5796:...0.43083...0.5328...8.6135e-15\n",
      "Idx=5809:...1.8734e-14...2.0409e-14...0.032143\n",
      "Idx=5812:...3.99e-11...1.2959e-11...2.7172e-11\n",
      "Size 23:\n",
      "Idx=1093:...0.17594...2.4914e-09...2.1442e-09\n",
      "Idx=1103:...7.4634e-08...7.4634e-08...7.4634e-08\n",
      "Idx=1129:...1.0063e-08...6.8942e-09...6.9518e-09\n",
      "Size 24:\n",
      "Idx=5806:...1.0685e-14...2.346e-14...5.2232e-15\n",
      "Idx=5807:...6.1033e-08...3.2324e-14...6.1033e-08\n",
      "Idx=5808:...1.1473e-13...7.0723e-15...4.4959e-14\n",
      "Size 25:\n",
      "Idx=36927:...0.016102...0.010984...5.6491e-14\n",
      "Idx=36945:...1.7786e-11...1.7844e-11...2.8274e-11\n",
      "Idx=36959:...2.2275e-05...0.023568...1.7131e-10\n",
      "Size 26:\n",
      "Idx=5805:...0.00058466...0.035933...2.5547e-14\n",
      "Idx=5810:...3.2563e-08...3.0328e-08...1.333e-10\n",
      "Idx=5850:...0.039202...0.052495...0.079962\n",
      "Size 27:\n",
      "Idx=42138:...5.2403e-09...7.9396e-09...7.3262e-08\n",
      "Idx=57349:...1.3605e-11...7.6169e-12...1.2563e-11\n",
      "Idx=57419:...0.05455...2.5648e-14...0.05145\n",
      "Size 29:\n",
      "Idx=57517:...4.8068e-11...3.3511e-11...2.3942e-11\n",
      "Idx=58098:...1.262e-08...1.0759e-08...1.5699e-08\n",
      "Idx=58182:...0.044654...0.053918...1.474e-14\n"
     ]
    }
   ],
   "source": [
    "results = do_reconstruction(\n",
    "    qm9data, \n",
    "    test_set,\n",
    "    no_species,\n",
    "    num_attempts, \n",
    "    cutoff=cutoff,\n",
    ")\n",
    "no_species_frame = pandas.DataFrame(results, columns=columns)"
   ]
  },
  {
   "cell_type": "code",
   "execution_count": 12,
   "metadata": {},
   "outputs": [],
   "source": [
    "no_species_frame.to_pickle('data/species_recovery_from_decoded_positions.pickle')"
   ]
  }
 ],
 "metadata": {
  "@webio": {
   "lastCommId": null,
   "lastKernelId": null
  },
  "kernelspec": {
   "display_name": "Python 3",
   "language": "python",
   "name": "python3"
  },
  "language_info": {
   "codemirror_mode": {
    "name": "ipython",
    "version": 3
   },
   "file_extension": ".py",
   "mimetype": "text/x-python",
   "name": "python",
   "nbconvert_exporter": "python",
   "pygments_lexer": "ipython3",
   "version": "3.8.5"
  }
 },
 "nbformat": 4,
 "nbformat_minor": 1
}
