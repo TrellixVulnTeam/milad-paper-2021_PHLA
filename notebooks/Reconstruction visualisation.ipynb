{
 "cells": [
  {
   "cell_type": "code",
   "execution_count": 16,
   "id": "33322a74",
   "metadata": {},
   "outputs": [],
   "source": [
    "from argparse import Namespace\n",
    "import json\n",
    "import random\n",
    "\n",
    "from ase import visualize\n",
    "import ase.visualize.ngl\n",
    "import ipywidgets\n",
    "import matplotlib.pyplot as plt\n",
    "import numpy as np\n",
    "import pandas\n",
    "from scipy.spatial.transform import Rotation as R\n",
    "\n",
    "import milad\n",
    "from milad.play import asetools\n",
    "from milad import invariants\n",
    "from milad import reconstruct\n",
    "\n",
    "\n",
    "import qm9_utils"
   ]
  },
  {
   "cell_type": "code",
   "execution_count": 2,
   "id": "b0bcceb8",
   "metadata": {},
   "outputs": [],
   "source": [
    "# Seed RNGs\n",
    "random.seed(1234)\n",
    "np.random.seed(1234)\n",
    "\n",
    "# Colours used for plotting\n",
    "cmap=('#845ec2',  '#FF9D47', '#ff9671')\n",
    "\n",
    "# Parameters passed to reconstruct.get_best_rms\n",
    "rmsd_settings = dict(\n",
    "    max_retries=100,\n",
    "    threshold=1e-3,\n",
    "    use_hungarian=False,\n",
    ")"
   ]
  },
  {
   "cell_type": "code",
   "execution_count": 3,
   "id": "9e28e5fe",
   "metadata": {},
   "outputs": [],
   "source": [
    "from schnetpack import datasets\n",
    "\n",
    "qm9data = datasets.QM9('data/qm9.db', download=True)"
   ]
  },
  {
   "cell_type": "code",
   "execution_count": 4,
   "id": "17b08574",
   "metadata": {},
   "outputs": [],
   "source": [
    "no_species = pandas.read_pickle('structure_recovery_iterative_no_species.pickle')\n",
    "with_species = pandas.read_pickle('structure_recovery_iterative_with_species.pickle')\n",
    "with_species_two_fingerprints = pandas.read_pickle('species_recovery_from_decoded_positions.pickle')"
   ]
  },
  {
   "cell_type": "code",
   "execution_count": 81,
   "id": "3e6667c6",
   "metadata": {},
   "outputs": [],
   "source": [
    "def create_atoms_widget(atoms: ase.Atoms, label: str):\n",
    "    atoms_display = visualize.ngl.NGLDisplay(atoms)\n",
    "    return ipywidgets.VBox([ipywidgets.Label(label), atoms_display.view])\n",
    "\n",
    "\n",
    "def create_reconstructed_atoms_widget(idx: int, dataset, label: str=''):\n",
    "    best = qm9_utils.get_best_reconstruction(idx, dataset)\n",
    "    result = best['Result'].iloc[0]\n",
    "    return create_atoms_widget(asetools.milad2ase(result.value), f'{label} (RMSD {result.rmsd:.2e})')\n",
    "\n",
    "def get_visualisation(\n",
    "    idx, no_species, with_speices, with_species_two_fingerprints, qm9data):\n",
    "\n",
    "    # The original\n",
    "    orig_atoms = qm9data.get_atoms(idx=idx)\n",
    "    asetools.prepare_molecule(orig_atoms)\n",
    "    orig = create_atoms_widget(orig_atoms, 'Original')\n",
    "    \n",
    "    no_species_view = create_reconstructed_atoms_widget(\n",
    "        idx, no_species, label='Positions only')\n",
    "    with_species_view = create_reconstructed_atoms_widget(\n",
    "        idx, with_species, label='Positions and species')\n",
    "    with_species_two_fingerprints_view = create_reconstructed_atoms_widget(\n",
    "        idx, with_species_two_fingerprints, label='Positions and speceis (two fingerprints)')\n",
    "    \n",
    "   \n",
    "    return ipywidgets.GridBox(\n",
    "        [orig, no_species_view, with_species_view, with_species_two_fingerprints_view],\n",
    "        layout=ipywidgets.Layout(\n",
    "            grid_template_columns='40% 40%',\n",
    "            grid_template_rows='40% 40%'\n",
    "        ),\n",
    "    )"
   ]
  },
  {
   "cell_type": "code",
   "execution_count": 85,
   "id": "5d1601a6",
   "metadata": {},
   "outputs": [
    {
     "data": {
      "application/vnd.jupyter.widget-view+json": {
       "model_id": "251155f999f842f4abced9889018952d",
       "version_major": 2,
       "version_minor": 0
      },
      "text/plain": [
       "GridBox(children=(VBox(children=(Label(value='Original'), NGLWidget())), VBox(children=(Label(value='Positions…"
      ]
     },
     "metadata": {},
     "output_type": "display_data"
    }
   ],
   "source": [
    "get_visualisation(64, no_species, with_species, with_species_two_fingerprints, qm9data)"
   ]
  },
  {
   "cell_type": "code",
   "execution_count": null,
   "id": "f3e34034",
   "metadata": {},
   "outputs": [],
   "source": []
  }
 ],
 "metadata": {
  "@webio": {
   "lastCommId": null,
   "lastKernelId": null
  },
  "kernelspec": {
   "display_name": "Python 3",
   "language": "python",
   "name": "python3"
  },
  "language_info": {
   "codemirror_mode": {
    "name": "ipython",
    "version": 3
   },
   "file_extension": ".py",
   "mimetype": "text/x-python",
   "name": "python",
   "nbconvert_exporter": "python",
   "pygments_lexer": "ipython3",
   "version": "3.8.5"
  }
 },
 "nbformat": 4,
 "nbformat_minor": 5
}
